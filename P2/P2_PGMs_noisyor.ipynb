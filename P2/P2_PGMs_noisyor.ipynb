{
  "cells": [
    {
      "cell_type": "code",
      "execution_count": 135,
      "metadata": {
        "colab": {
          "base_uri": "https://localhost:8080/"
        },
        "id": "KUfNQR99QDK1",
        "outputId": "cac3e5c1-7e4a-4aa4-c320-7e36f50401e2"
      },
      "outputs": [],
      "source": [
        "#!pip install -q pgmpy"
      ]
    },
    {
      "cell_type": "markdown",
      "metadata": {
        "id": "6AXCchLB9I-N"
      },
      "source": [
        "# Noisy-OR model\n",
        "\n",
        "## Deterministic OR\n",
        "\n",
        "It is easy to see that an OR between many variables can factorize as a product of tables involving only three variables\n",
        "\n",
        "$$\n",
        "\\begin{align}\\label{eq:or}\n",
        " \\text{OR}(y|x_1,x_2,x_3) & = \\sum_{s\\in\\{0,1\\}} \\text{OR}(y|3,s)\\text{OR}(s|x_1,x_2).\n",
        "\\end{align}\n",
        "$$\n"
      ]
    },
    {
      "cell_type": "markdown",
      "metadata": {
        "id": "B1qp3ALs9I-P"
      },
      "source": [
        "## Noisy OR\n",
        "\n",
        "The noisy-OR model \\[1\\] represents a joint probability distribution composed of an effect variable $y$ that has $K$ parents $x_k, k=1,...,K$. For simplicity, we will assume that all of them are binary. It factorizes as\n",
        "\n",
        "$$\n",
        "\\begin{align}\n",
        " P(y=0|x_1,...,x_K) & = P(y=0|L)\\prod_{k=1}^{K} P(y=0|x_k)\\\\\n",
        " & = (1-\\lambda_0)\\prod_{k=1}^{K} (1-\\lambda_k)^{x_k},\n",
        "\\end{align}\n",
        "$$\n",
        "\n",
        "where $\\lambda_k$ is used to parameterize the probability that the parent $k$, if present, could alone determine the effect to have a positive outcome. The parameter $\\lambda_0 = P(y=1|L)$, also known as leak probability, is the probability that $y$ occurs by means other than the specified parents.\n",
        "\n",
        "Note that since $x_k$ appears in the exponent, when the parent is not active ($x_k=0$), the corresponding term is one, so the probability is not affected by $\\lambda_k$. On the contrary, when $x_k=1$, the lower the value of $\\lambda_k$, the less likely will be that the effect is present, and vice-versa.\n"
      ]
    },
    {
      "cell_type": "markdown",
      "metadata": {
        "id": "SNuX7Kb09I-P"
      },
      "source": [
        "## Using exponentially large OR tables\n",
        "\n",
        "A simple way to represent this model consists of $K$ factors (one for each parent $x_k$) that have a direct relation with a hidden variable $z_k$. These potentials encode the local probability that the effect is active or not, given the value of the cause only:\n",
        "\n",
        "<table>\n",
        "    <tr><th>$x_k$</th><th>$z_k$</th><th>$P(z_k|x_k)$</th></tr>\n",
        "    <tr><td> 0 </td> <td> 0 </td> <td> $1$ </td></tr>\n",
        "    <tr><td> 0 </td> <td> 1 </td> <td> $0$ </td></tr>\n",
        "    <tr><td> 1 </td> <td> 0 </td> <td> $(1-\\lambda_k)$ </td></tr>\n",
        "    <tr><td> 1 </td> <td> 1 </td> <td> $\\lambda_k$ </td></tr>\n",
        "</table>\n",
        "\n",
        "An additional leak factor $L$ is also introduced to account for the term $(1-\\lambda_0)$ and $L$ is usually set to $1$ (i.e. $P(L=1)=1$).\n",
        "\n",
        "All these factors are combined using a deterministic OR factor. The size of this gate grows exponentially in $K$. For example, for $K=3$:\n",
        "\n",
        "<table>\n",
        "    <tr><th> $z_0$ </th> <th> $z_1$ </th> <th> $z_2$ </th> <th> $z_3$ </th> <th> $P(y=0|z_0,z_1,z_2,z_3)$ </th></tr>\n",
        "    <tr><td> 0 </td> <td> 0 </td> <td> 0 </td> <td> 0 </td> <td> $1$ </td></tr>\n",
        "    <tr><td> 0 </td> <td> 0 </td> <td> 0 </td> <td> 1 </td> <td> $0$ </td></tr>\n",
        "    <tr><td> 0 </td> <td> 0 </td> <td> 1 </td> <td> 0 </td> <td> $0$ </td></tr>\n",
        "    <tr><td> 0 </td> <td> 0 </td> <td> 1 </td> <td> 1 </td> <td> $0$ </td></tr>\n",
        "    <tr><td> 0 </td> <td> 1 </td> <td> 0 </td> <td> 0 </td> <td> $0$ </td></tr>\n",
        "    <tr><td> 0 </td> <td> 1 </td> <td> 0 </td> <td> 1 </td> <td> $0$ </td></tr>\n",
        "    <tr><td> 0 </td> <td> 1 </td> <td> 1 </td> <td> 0 </td> <td> $0$ </td></tr>\n",
        "    <tr><td> 0 </td> <td> 1 </td> <td> 1 </td> <td> 1 </td> <td> $0$ </td></tr>\n",
        "    <tr><td> 1 </td> <td> 0 </td> <td> 0 </td> <td> 0 </td> <td> $0$ </td></tr>\n",
        "    <tr><td> 1 </td> <td> 0 </td> <td> 0 </td> <td> 1 </td> <td> $0$ </td></tr>\n",
        "    <tr><td> 1 </td> <td> 0 </td> <td> 1 </td> <td> 0 </td> <td> $0$ </td></tr>\n",
        "    <tr><td> 1 </td> <td> 0 </td> <td> 1 </td> <td> 1 </td> <td> $0$ </td></tr>\n",
        "    <tr><td> 1 </td> <td> 1 </td> <td> 0 </td> <td> 0 </td> <td> $0$ </td></tr>\n",
        "    <tr><td> 1 </td> <td> 1 </td> <td> 0 </td> <td> 1 </td> <td> $0$ </td></tr>\n",
        "    <tr><td> 1 </td> <td> 1 </td> <td> 1 </td> <td> 0 </td> <td> $0$ </td></tr>\n",
        "    <tr><td> 1 </td> <td> 1 </td> <td> 1 </td> <td> 1 </td> <td> $0$ </td></tr>\n",
        "</table>\n",
        "<br><center>Table 1: A deterministic OR factor: full table for four inputs</center>\n",
        "\n",
        "Note that we also need to specify the prior probabilities for $x_k, \\forall k$. For simplicity, we will assume they are uniform.\n"
      ]
    },
    {
      "cell_type": "markdown",
      "metadata": {
        "id": "-6FqMeCF9I-R"
      },
      "source": [
        "Create a model like that and experiment with different values of $\\boldsymbol{\\lambda}$. For example, assume $\\lambda_0=10^{-3},\\lambda_1=0.9,\\lambda_2=0.5,\\lambda_3=0.99$. The corresponding graphical model is <br> <img src=\"https://raw.githubusercontent.com/guillermoim/resources/main/noisyor.png\" width=350 height=230>\n",
        "\n",
        "Construct this model using python.\n"
      ]
    },
    {
      "cell_type": "code",
      "execution_count": 136,
      "metadata": {},
      "outputs": [],
      "source": [
        "from pgmpy.models import BayesianNetwork\n",
        "from pgmpy.factors.discrete import DiscreteFactor, TabularCPD\n",
        "import numpy as np\n",
        "import itertools\n",
        "\n",
        "\n",
        "def to_cpd(phi, x):\n",
        "    \"\"\"\n",
        "    Returns a TabularCPD object from a DiscreteFactor. For a given factor phi(x_0, ..., x_n)\n",
        "    and a variable x_i, it interprets the factor as a CPD P(x_i|Y), where Y is the set of all\n",
        "    variables in phi except x_i. I.e. P(x_i|x_0, ..., x_{i-1}, x_{i+1}, ..., x_n).\n",
        "    It also checks that the factor is a valid conditional probability distribution.\n",
        "    \"\"\"\n",
        "    assert x in phi.variables\n",
        "    idx = phi.variables.index(x)\n",
        "    card = list(phi.cardinality)\n",
        "    var_card = card[idx]\n",
        "    evidence_card = card[:idx] + card[idx + 1 :]\n",
        "    values = np.moveaxis(phi.values, idx, 0)  # move variable x to dimension 0\n",
        "    return TabularCPD(\n",
        "        variable=x,\n",
        "        variable_card=var_card,\n",
        "        evidence=phi.variables[:idx] + phi.variables[idx + 1 :],\n",
        "        evidence_card=evidence_card,\n",
        "        values=values.reshape(\n",
        "            var_card, int(np.prod(evidence_card))\n",
        "        ),  # int cast since np.prod([])=1.0\n",
        "        state_names=phi.state_names,\n",
        "    )"
      ]
    },
    {
      "cell_type": "code",
      "execution_count": 137,
      "metadata": {
        "id": "T6Ouxr0t9I-R"
      },
      "outputs": [
        {
          "name": "stdout",
          "output_type": "stream",
          "text": [
            "+------+-------+-------------+\n",
            "| L    | z0    |   phi(L,z0) |\n",
            "+======+=======+=============+\n",
            "| L(0) | z0(0) |      0.0000 |\n",
            "+------+-------+-------------+\n",
            "| L(0) | z0(1) |      1.0000 |\n",
            "+------+-------+-------------+\n",
            "| L(1) | z0(0) |      0.9900 |\n",
            "+------+-------+-------------+\n",
            "| L(1) | z0(1) |      0.0100 |\n",
            "+------+-------+-------------+\n",
            "+-------+-------+--------------+\n",
            "| x1    | z1    |   phi(x1,z1) |\n",
            "+=======+=======+==============+\n",
            "| x1(0) | z1(0) |       0.0000 |\n",
            "+-------+-------+--------------+\n",
            "| x1(0) | z1(1) |       1.0000 |\n",
            "+-------+-------+--------------+\n",
            "| x1(1) | z1(0) |       0.1000 |\n",
            "+-------+-------+--------------+\n",
            "| x1(1) | z1(1) |       0.9000 |\n",
            "+-------+-------+--------------+\n",
            "+-------+-------+--------------+\n",
            "| x2    | z2    |   phi(x2,z2) |\n",
            "+=======+=======+==============+\n",
            "| x2(0) | z2(0) |       0.0000 |\n",
            "+-------+-------+--------------+\n",
            "| x2(0) | z2(1) |       1.0000 |\n",
            "+-------+-------+--------------+\n",
            "| x2(1) | z2(0) |       0.5000 |\n",
            "+-------+-------+--------------+\n",
            "| x2(1) | z2(1) |       0.5000 |\n",
            "+-------+-------+--------------+\n",
            "+-------+-------+--------------+\n",
            "| x3    | z3    |   phi(x3,z3) |\n",
            "+=======+=======+==============+\n",
            "| x3(0) | z3(0) |       0.0000 |\n",
            "+-------+-------+--------------+\n",
            "| x3(0) | z3(1) |       1.0000 |\n",
            "+-------+-------+--------------+\n",
            "| x3(1) | z3(0) |       0.0100 |\n",
            "+-------+-------+--------------+\n",
            "| x3(1) | z3(1) |       0.9900 |\n",
            "+-------+-------+--------------+\n"
          ]
        }
      ],
      "source": [
        "vars = [\"L\", \"x1\", \"x2\", \"x3\", \"z0\", \"z1\", \"z2\", \"z3\", \"Y\"]\n",
        "domains = {i: [0, 1] for i in vars}\n",
        "lambdas = [10e-3, 0.9, 0.5, 0.99, 0.0]  # Add an extra element to lambdas list\n",
        "p = dict()\n",
        "\n",
        "p[\"L\"] = DiscreteFactor(\n",
        "    variables=[\"L\"], cardinality=[2], values=[0, 1], state_names=domains\n",
        ")\n",
        "\n",
        "for i in range(1, 4):\n",
        "    p[\"x\" + str(i)] = DiscreteFactor(\n",
        "        variables=[\"x\" + str(i)],\n",
        "        cardinality=[2],\n",
        "        values=[0.5, 0.5],\n",
        "        state_names=domains,\n",
        "    )\n",
        "\n",
        "p[\"z0\"] = DiscreteFactor(\n",
        "    variables=[\"L\", \"z0\"],\n",
        "    cardinality=[2, 2],\n",
        "    values=[0, 1, 1 - lambdas[0], lambdas[0]],\n",
        "    state_names=domains,\n",
        ")\n",
        "\n",
        "for i in range(1, 4):\n",
        "    p[\"z\" + str(i)] = DiscreteFactor(\n",
        "        variables=[\"x\" + str(i), \"z\" + str(i)],\n",
        "        cardinality=[2, 2],\n",
        "        values=[0, 1, 1 - lambdas[i], lambdas[i]],\n",
        "        state_names=domains,\n",
        "    )\n",
        "\n",
        "\n",
        "print(p[\"z0\"])\n",
        "print(p[\"z1\"])\n",
        "print(p[\"z2\"])\n",
        "print(p[\"z3\"])"
      ]
    },
    {
      "cell_type": "code",
      "execution_count": 158,
      "metadata": {},
      "outputs": [],
      "source": [
        "import numpy as np\n",
        "import itertools\n",
        "from pgmpy.factors.discrete import DiscreteFactor\n",
        "\n",
        "# Define the variables, domains, and lambda values\n",
        "vars = [\"L\", \"x1\", \"x2\", \"x3\", \"z0\", \"z1\", \"z2\", \"z3\", \"Y\"]\n",
        "domains = {var: [0, 1] for var in vars}\n",
        "lambdas = [\n",
        "    1e-3,\n",
        "    0.9,\n",
        "    0.5,\n",
        "    0.99,\n",
        "]  # leak probability and failure probabilities for x1, x2, x3\n",
        "p = dict()\n",
        "\n",
        "# Define DiscreteFactors for L and x's\n",
        "p[\"L\"] = DiscreteFactor(\n",
        "    variables=[\"L\"],\n",
        "    cardinality=[2],\n",
        "    values=[1 - lambdas[0], lambdas[0]],\n",
        "    state_names=domains,\n",
        ")\n",
        "for i, x in enumerate([\"x1\", \"x2\", \"x3\"], start=1):\n",
        "    p[x] = DiscreteFactor(\n",
        "        variables=[x], cardinality=[2], values=[0.5, 0.5], state_names=domains\n",
        "    )\n",
        "\n",
        "# Define DiscreteFactors for z's based on the Noisy-OR model\n",
        "for i, z in enumerate([\"z0\", \"z1\", \"z2\", \"z3\"], start=0):\n",
        "    p[z] = DiscreteFactor(\n",
        "        variables=[vars[i], z],\n",
        "        cardinality=[2, 2],\n",
        "        values=[1, 0, 1 - lambdas[i], lambdas[i]],\n",
        "        state_names=domains,\n",
        "    )"
      ]
    },
    {
      "cell_type": "code",
      "execution_count": 161,
      "metadata": {},
      "outputs": [
        {
          "name": "stdout",
          "output_type": "stream",
          "text": [
            "True\n"
          ]
        }
      ],
      "source": [
        "model = BayesianNetwork([(\"L\", \"z0\"), (\"x1\", \"z1\"), (\"x2\", \"z2\"), (\"x3\", \"z3\")])\n",
        "\n",
        "cpd_L = to_cpd(p[\"L\"], \"L\")\n",
        "cpd_x1 = to_cpd(p[\"x1\"], \"x1\")\n",
        "cpd_x2 = to_cpd(p[\"x2\"], \"x2\")\n",
        "cpd_x3 = to_cpd(p[\"x3\"], \"x3\")\n",
        "\n",
        "cpd_L_z0 = to_cpd(p[\"z0\"], \"z0\")\n",
        "cpd_x1_z1 = to_cpd(p[\"z1\"], \"z1\")\n",
        "cpd_x2_z2 = to_cpd(p[\"z2\"], \"z2\")\n",
        "cpd_x3_z3 = to_cpd(p[\"z3\"], \"z3\")\n",
        "\n",
        "\n",
        "model.add_cpds(cpd_L_z0, cpd_L, cpd_x1, cpd_x1_z1, cpd_x2, cpd_x2_z2, cpd_x3, cpd_x3_z3)\n",
        "\n",
        "print(model.check_model())"
      ]
    },
    {
      "cell_type": "code",
      "execution_count": 162,
      "metadata": {},
      "outputs": [
        {
          "name": "stdout",
          "output_type": "stream",
          "text": [
            "CPDs list:\n",
            "[<TabularCPD representing P(z0:2 | L:2) at 0x298327d10>, <TabularCPD representing P(L:2) at 0x2981daf90>, <TabularCPD representing P(x1:2) at 0x2981da110>, <TabularCPD representing P(z1:2 | x1:2) at 0x298307890>, <TabularCPD representing P(x2:2) at 0x2983b9f10>, <TabularCPD representing P(z2:2 | x2:2) at 0x298253510>, <TabularCPD representing P(x3:2) at 0x2987d4510>, <TabularCPD representing P(z3:2 | x3:2) at 0x29824a010>]\n",
            "\n",
            "CPD for Butler:\n",
            "+------+-------+\n",
            "| L(0) | 0.999 |\n",
            "+------+-------+\n",
            "| L(1) | 0.001 |\n",
            "+------+-------+\n",
            "\n",
            "CPD for Knife:\n"
          ]
        },
        {
          "ename": "ValueError",
          "evalue": "Node not present in the Directed Graph",
          "output_type": "error",
          "traceback": [
            "\u001b[0;31m---------------------------------------------------------------------------\u001b[0m",
            "\u001b[0;31mValueError\u001b[0m                                Traceback (most recent call last)",
            "Cell \u001b[0;32mIn[162], line 10\u001b[0m\n\u001b[1;32m      8\u001b[0m \u001b[38;5;28mprint\u001b[39m(\u001b[38;5;124m\"\u001b[39m\u001b[38;5;124m\"\u001b[39m)\n\u001b[1;32m      9\u001b[0m \u001b[38;5;28mprint\u001b[39m(\u001b[38;5;124m\"\u001b[39m\u001b[38;5;124mCPD for Knife:\u001b[39m\u001b[38;5;124m\"\u001b[39m)\n\u001b[0;32m---> 10\u001b[0m \u001b[38;5;28mprint\u001b[39m(\u001b[43mmodel\u001b[49m\u001b[38;5;241;43m.\u001b[39;49m\u001b[43mget_cpds\u001b[49m\u001b[43m(\u001b[49m\u001b[38;5;124;43m\"\u001b[39;49m\u001b[38;5;124;43mY\u001b[39;49m\u001b[38;5;124;43m\"\u001b[39;49m\u001b[43m)\u001b[49m)\n",
            "File \u001b[0;32m/opt/homebrew/lib/python3.11/site-packages/pgmpy/models/BayesianNetwork.py:297\u001b[0m, in \u001b[0;36mBayesianNetwork.get_cpds\u001b[0;34m(self, node)\u001b[0m\n\u001b[1;32m    295\u001b[0m \u001b[38;5;28;01mif\u001b[39;00m node \u001b[38;5;129;01mis\u001b[39;00m \u001b[38;5;129;01mnot\u001b[39;00m \u001b[38;5;28;01mNone\u001b[39;00m:\n\u001b[1;32m    296\u001b[0m     \u001b[38;5;28;01mif\u001b[39;00m node \u001b[38;5;129;01mnot\u001b[39;00m \u001b[38;5;129;01min\u001b[39;00m \u001b[38;5;28mself\u001b[39m\u001b[38;5;241m.\u001b[39mnodes():\n\u001b[0;32m--> 297\u001b[0m         \u001b[38;5;28;01mraise\u001b[39;00m \u001b[38;5;167;01mValueError\u001b[39;00m(\u001b[38;5;124m\"\u001b[39m\u001b[38;5;124mNode not present in the Directed Graph\u001b[39m\u001b[38;5;124m\"\u001b[39m)\n\u001b[1;32m    298\u001b[0m     \u001b[38;5;28;01melse\u001b[39;00m:\n\u001b[1;32m    299\u001b[0m         \u001b[38;5;28;01mfor\u001b[39;00m cpd \u001b[38;5;129;01min\u001b[39;00m \u001b[38;5;28mself\u001b[39m\u001b[38;5;241m.\u001b[39mcpds:\n",
            "\u001b[0;31mValueError\u001b[0m: Node not present in the Directed Graph"
          ]
        }
      ],
      "source": [
        "print(\"CPDs list:\")\n",
        "print(model.get_cpds())\n",
        "\n",
        "print(\"\")\n",
        "print(\"CPD for Butler:\")\n",
        "print(model.get_cpds(\"L\"))\n",
        "\n",
        "print(\"\")\n",
        "print(\"CPD for Knife:\")\n",
        "print(model.get_cpds(\"Y\"))"
      ]
    },
    {
      "cell_type": "code",
      "execution_count": 163,
      "metadata": {},
      "outputs": [
        {
          "data": {
            "image/png": "[encoded data removed]",
            "text/plain": [
              "<Figure size 640x480 with 1 Axes>"
            ]
          },
          "metadata": {},
          "output_type": "display_data"
        }
      ],
      "source": [
        "import networkx as nx\n",
        "\n",
        "pos = {node: (0, index) for index, node in enumerate(model.nodes())}\n",
        "nx.draw(model, pos=pos, with_labels=True)"
      ]
    },
    {
      "cell_type": "markdown",
      "metadata": {
        "id": "MF0O2fmw9I-S"
      },
      "source": [
        "Answer the following questions:\n",
        "\n",
        "1. What is $P_1=P(y=1|x_1=0,x_2=0,x_3=1)$?\n"
      ]
    },
    {
      "cell_type": "code",
      "execution_count": null,
      "metadata": {
        "id": "Y89TXI479I-S"
      },
      "outputs": [],
      "source": []
    },
    {
      "cell_type": "markdown",
      "metadata": {
        "id": "NCIzE1bT9I-T"
      },
      "source": [
        "2. Argue why $P_2=P(y=1|x_1=0,x_2=1,x_3=0)$ is smaller than $P_1$.\n"
      ]
    },
    {
      "cell_type": "code",
      "execution_count": null,
      "metadata": {
        "id": "3Rpt6u7Q9I-T"
      },
      "outputs": [],
      "source": []
    },
    {
      "cell_type": "markdown",
      "metadata": {
        "id": "WY-7fUnn9I-U"
      },
      "source": [
        "3. Relate $P_3=P(y=1|x_1=0,x_2=1,x_3=1)$ with $P_2$ and $P_1$.\n"
      ]
    },
    {
      "cell_type": "code",
      "execution_count": null,
      "metadata": {
        "id": "kXug_0bx9I-U"
      },
      "outputs": [],
      "source": []
    },
    {
      "cell_type": "markdown",
      "metadata": {
        "id": "2ZCD4uNc9I-X"
      },
      "source": [
        "4. Relate $P_4=P(y=1|x_1=0,x_2=0,x_3=0)$ with all the previous probabilities.\n"
      ]
    },
    {
      "cell_type": "code",
      "execution_count": null,
      "metadata": {
        "id": "DrP_ln-F9I-Y"
      },
      "outputs": [],
      "source": []
    },
    {
      "cell_type": "markdown",
      "metadata": {
        "id": "S85j5z0f9I-Y"
      },
      "source": [
        "5. What are the posterior probabilities of each individual parent, if we observe that $y=1$? How do they change if we observe that $y=0$?\n"
      ]
    },
    {
      "cell_type": "code",
      "execution_count": null,
      "metadata": {
        "id": "u5OQHhwk9I-Y"
      },
      "outputs": [],
      "source": []
    },
    {
      "cell_type": "markdown",
      "metadata": {
        "id": "6PR_YZtL9I-Y"
      },
      "source": [
        "## Efficient representation\n",
        "\n",
        "The previous networks contains a factor with exponetial size, which renders it unfeasible for large $K$. Based on the factorization of the deterministic OR shown at the top, can you think of a more efficient way to represent the noisy-OR model?\n",
        "\n",
        "Answer the following questions:\n",
        "\n",
        "1. Using the efficient representation, compute the probabilities of the previous subsection and check they are equivalent\n"
      ]
    },
    {
      "cell_type": "code",
      "execution_count": null,
      "metadata": {
        "id": "FnRpO21K9I-Z"
      },
      "outputs": [],
      "source": []
    },
    {
      "cell_type": "markdown",
      "metadata": {
        "id": "tIae3Ra79I-Z"
      },
      "source": [
        "2. Construct a noisy-OR model with $K=6$ and $\\boldsymbol{\\lambda} = (10^{-4}, 0.99, 0.9, 0.8, 0.7, 0.6, 0.5)$. Again, assume uniform priors for $x_k$ and $P(L=1)=1$.\n",
        "   - For $\\mathbf{x}=(0,0,0,0,0,1)$, what is the probability $p(y|\\mathbf{x})$?\n",
        "   - Let $\\mathbf{x}=(1,0,0,0,0,1)$ What is the probability $p(y|\\mathbf{x})$?\n"
      ]
    },
    {
      "cell_type": "code",
      "execution_count": null,
      "metadata": {
        "id": "65NM4gvU9I-Z"
      },
      "outputs": [],
      "source": []
    },
    {
      "cell_type": "markdown",
      "metadata": {
        "id": "AJWStVZG9I-a"
      },
      "source": [
        "## References\n",
        "\n",
        "\\[1\\] J. Pearl. Probabilistic reasoning in intelligent systems: networks of plausible inference. Elsevier, 2014.\n"
      ]
    }
  ],
  "metadata": {
    "colab": {
      "provenance": []
    },
    "kernelspec": {
      "display_name": "Python 3",
      "language": "python",
      "name": "python3"
    },
    "language_info": {
      "codemirror_mode": {
        "name": "ipython",
        "version": 3
      },
      "file_extension": ".py",
      "mimetype": "text/x-python",
      "name": "python",
      "nbconvert_exporter": "python",
      "pygments_lexer": "ipython3",
      "version": "3.11.6"
    }
  },
  "nbformat": 4,
  "nbformat_minor": 0
}
