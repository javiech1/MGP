{
  "cells": [
    {
      "cell_type": "code",
      "source": [
        "!pip install -q pgmpy\n"
      ],
      "metadata": {
        "id": "KUfNQR99QDK1",
        "outputId": "cac3e5c1-7e4a-4aa4-c320-7e36f50401e2",
        "colab": {
          "base_uri": "https://localhost:8080/"
        }
      },
      "execution_count": null,
      "outputs": [
        {
          "output_type": "stream",
          "name": "stdout",
          "text": [
            "\u001b[?25l     \u001b[90m━━━━━━━━━━━━━━━━━━━━━━━━━━━━━━━━━━━━━━━━\u001b[0m \u001b[32m0.0/1.9 MB\u001b[0m \u001b[31m?\u001b[0m eta \u001b[36m-:--:--\u001b[0m\r\u001b[2K     \u001b[91m━━━━━━━━\u001b[0m\u001b[90m╺\u001b[0m\u001b[90m━━━━━━━━━━━━━━━━━━━━━━━━━━━━━━━\u001b[0m \u001b[32m0.4/1.9 MB\u001b[0m \u001b[31m11.5 MB/s\u001b[0m eta \u001b[36m0:00:01\u001b[0m\r\u001b[2K     \u001b[91m━━━━━━━━━━━━━━━━━━━━━━━━━━━━━━━━━━━━━━━\u001b[0m\u001b[91m╸\u001b[0m \u001b[32m1.9/1.9 MB\u001b[0m \u001b[31m31.6 MB/s\u001b[0m eta \u001b[36m0:00:01\u001b[0m\r\u001b[2K     \u001b[90m━━━━━━━━━━━━━━━━━━━━━━━━━━━━━━━━━━━━━━━━\u001b[0m \u001b[32m1.9/1.9 MB\u001b[0m \u001b[31m22.6 MB/s\u001b[0m eta \u001b[36m0:00:00\u001b[0m\n",
            "\u001b[?25h"
          ]
        }
      ]
    },
    {
      "cell_type": "markdown",
      "metadata": {
        "id": "6AXCchLB9I-N"
      },
      "source": [
        "# Noisy-OR model\n",
        "\n",
        "## Deterministic OR\n",
        "\n",
        "It is easy to see that an OR between many variables can factorize as a product of tables involving only three variables\n",
        "\n",
        "$$\n",
        "\\begin{align}\\label{eq:or}\n",
        " \\text{OR}(y|x_1,x_2,x_3) & = \\sum_{s\\in\\{0,1\\}} \\text{OR}(y|x_3,s)\\text{OR}(s|x_1,x_2).\n",
        "\\end{align}\n",
        "$$"
      ]
    },
    {
      "cell_type": "markdown",
      "metadata": {
        "id": "B1qp3ALs9I-P"
      },
      "source": [
        "## Noisy OR\n",
        "\n",
        "The noisy-OR model \\[1\\] represents a joint probability distribution composed of an effect variable $y$ that has $K$ parents $x_k, k=1,...,K$. For simplicity, we will assume that all of them are binary. It factorizes as\n",
        "\n",
        "$$\n",
        "\\begin{align}\n",
        " P(y=0|x_1,...,x_K) & = P(y=0|L)\\prod_{k=1}^{K} P(y=0|x_k)\\\\\n",
        " & = (1-\\lambda_0)\\prod_{k=1}^{K} (1-\\lambda_k)^{x_k},\n",
        "\\end{align}\n",
        "$$\n",
        "\n",
        "where $\\lambda_k$ is used to parameterize the probability that the parent $k$, if present, could alone determine the effect to have a positive outcome. The parameter $\\lambda_0 = P(y=1|L)$, also known as leak probability, is the probability that $y$ occurs by means other than the specified parents.\n",
        "\n",
        "Note that since $x_k$ appears in the exponent, when the parent is not active ($x_k=0$), the corresponding term is one, so the probability is not affected by $\\lambda_k$. On the contrary, when $x_k=1$, the lower the value of $\\lambda_k$, the less likely will be that the effect is present, and vice-versa."
      ]
    },
    {
      "cell_type": "markdown",
      "metadata": {
        "id": "SNuX7Kb09I-P"
      },
      "source": [
        "## Using exponentially large OR tables\n",
        "A simple way to represent this model consists of $K$ factors (one for each parent $x_k$) that have a direct relation with a hidden variable $z_k$. These potentials encode the local probability that the effect is active or not, given the value of the cause only:\n",
        "<table>\n",
        "    <tr><th>$x_k$</th><th>$z_k$</th><th>$P(z_k|x_k)$</th></tr>\n",
        "    <tr><td> 0 </td> <td> 0 </td> <td> $1$ </td></tr>\n",
        "    <tr><td> 0 </td> <td> 1 </td> <td> $0$ </td></tr>\n",
        "    <tr><td> 1 </td> <td> 0 </td> <td> $(1-\\lambda_k)$ </td></tr>\n",
        "    <tr><td> 1 </td> <td> 1 </td> <td> $\\lambda_k$ </td></tr>\n",
        "</table>\n",
        "\n",
        "An additional leak factor $L$ is also introduced to account for the term $(1-\\lambda_0)$ and $L$ is usually set to $1$ (i.e. $P(L=1)=1$).\n",
        "\n",
        "All these factors are combined using a deterministic OR factor. The size of this gate grows exponentially in $K$. For example, for $K=3$:\n",
        "<table>\n",
        "    <tr><th> $z_0$ </th> <th> $z_1$ </th> <th> $z_2$ </th> <th> $z_3$ </th> <th> $P(y=0|z_0,z_1,z_2,z_3)$ </th></tr>\n",
        "    <tr><td> 0 </td> <td> 0 </td> <td> 0 </td> <td> 0 </td> <td> $1$ </td></tr>\n",
        "    <tr><td> 0 </td> <td> 0 </td> <td> 0 </td> <td> 1 </td> <td> $0$ </td></tr>\n",
        "    <tr><td> 0 </td> <td> 0 </td> <td> 1 </td> <td> 0 </td> <td> $0$ </td></tr>\n",
        "    <tr><td> 0 </td> <td> 0 </td> <td> 1 </td> <td> 1 </td> <td> $0$ </td></tr>\n",
        "    <tr><td> 0 </td> <td> 1 </td> <td> 0 </td> <td> 0 </td> <td> $0$ </td></tr>\n",
        "    <tr><td> 0 </td> <td> 1 </td> <td> 0 </td> <td> 1 </td> <td> $0$ </td></tr>\n",
        "    <tr><td> 0 </td> <td> 1 </td> <td> 1 </td> <td> 0 </td> <td> $0$ </td></tr>\n",
        "    <tr><td> 0 </td> <td> 1 </td> <td> 1 </td> <td> 1 </td> <td> $0$ </td></tr>\n",
        "    <tr><td> 1 </td> <td> 0 </td> <td> 0 </td> <td> 0 </td> <td> $0$ </td></tr>\n",
        "    <tr><td> 1 </td> <td> 0 </td> <td> 0 </td> <td> 1 </td> <td> $0$ </td></tr>\n",
        "    <tr><td> 1 </td> <td> 0 </td> <td> 1 </td> <td> 0 </td> <td> $0$ </td></tr>\n",
        "    <tr><td> 1 </td> <td> 0 </td> <td> 1 </td> <td> 1 </td> <td> $0$ </td></tr>\n",
        "    <tr><td> 1 </td> <td> 1 </td> <td> 0 </td> <td> 0 </td> <td> $0$ </td></tr>\n",
        "    <tr><td> 1 </td> <td> 1 </td> <td> 0 </td> <td> 1 </td> <td> $0$ </td></tr>\n",
        "    <tr><td> 1 </td> <td> 1 </td> <td> 1 </td> <td> 0 </td> <td> $0$ </td></tr>\n",
        "    <tr><td> 1 </td> <td> 1 </td> <td> 1 </td> <td> 1 </td> <td> $0$ </td></tr>\n",
        "</table>\n",
        "<br><center>Table 1: A deterministic OR factor: full table for four inputs</center>\n",
        "\n",
        "Note that we also need to specify the prior probabilities for $x_k, \\forall k$. For simplicity, we will assume they are uniform."
      ]
    },
    {
      "cell_type": "markdown",
      "metadata": {
        "id": "-6FqMeCF9I-R"
      },
      "source": [
        "Create a model like that and experiment with different values of $\\boldsymbol{\\lambda}$. For example, assume $\\lambda_0=10^{-3},\\lambda_1=0.9,\\lambda_2=0.5,\\lambda_3=0.99$. The corresponding graphical model is <br> <img src=\"https://raw.githubusercontent.com/guillermoim/resources/main/noisyor.png\" width=350 height=230>\n",
        "\n",
        "Construct this model using python."
      ]
    },
    {
      "cell_type": "code",
      "execution_count": null,
      "metadata": {
        "id": "T6Ouxr0t9I-R"
      },
      "outputs": [],
      "source": []
    },
    {
      "cell_type": "markdown",
      "metadata": {
        "id": "MF0O2fmw9I-S"
      },
      "source": [
        "Answer the following questions:\n",
        "\n",
        "\n",
        "1. What is $P_1=P(y=1|x_1=0,x_2=0,x_3=1)$?"
      ]
    },
    {
      "cell_type": "code",
      "execution_count": null,
      "metadata": {
        "id": "Y89TXI479I-S"
      },
      "outputs": [],
      "source": []
    },
    {
      "cell_type": "markdown",
      "metadata": {
        "id": "NCIzE1bT9I-T"
      },
      "source": [
        "2. Argue why $P_2=P(y=1|x_1=0,x_2=1,x_3=0)$ is smaller than $P_1$."
      ]
    },
    {
      "cell_type": "code",
      "execution_count": null,
      "metadata": {
        "id": "3Rpt6u7Q9I-T"
      },
      "outputs": [],
      "source": []
    },
    {
      "cell_type": "markdown",
      "metadata": {
        "id": "WY-7fUnn9I-U"
      },
      "source": [
        "3. Relate $P_3=P(y=1|x_1=0,x_2=1,x_3=1)$ with $P_2$ and $P_1$."
      ]
    },
    {
      "cell_type": "code",
      "execution_count": null,
      "metadata": {
        "id": "kXug_0bx9I-U"
      },
      "outputs": [],
      "source": []
    },
    {
      "cell_type": "markdown",
      "metadata": {
        "id": "2ZCD4uNc9I-X"
      },
      "source": [
        "4. Relate $P_4=P(y=1|x_1=0,x_2=0,x_3=0)$ with all the previous probabilities."
      ]
    },
    {
      "cell_type": "code",
      "execution_count": null,
      "metadata": {
        "id": "DrP_ln-F9I-Y"
      },
      "outputs": [],
      "source": []
    },
    {
      "cell_type": "markdown",
      "metadata": {
        "id": "S85j5z0f9I-Y"
      },
      "source": [
        "5. What are the posterior probabilities of each individual parent, if we observe that $y=1$? How do they change if we observe that $y=0$?"
      ]
    },
    {
      "cell_type": "code",
      "execution_count": null,
      "metadata": {
        "id": "u5OQHhwk9I-Y"
      },
      "outputs": [],
      "source": []
    },
    {
      "cell_type": "markdown",
      "metadata": {
        "id": "6PR_YZtL9I-Y"
      },
      "source": [
        "## Efficient representation\n",
        "\n",
        "The previous networks contains a factor with exponetial size, which renders it unfeasible for large $K$. Based on the factorization of the deterministic OR shown at the top, can you think of a more efficient way to represent the noisy-OR model?\n",
        "\n",
        "Answer the following questions:\n",
        "\n",
        "1. Using the efficient representation, compute the probabilities of the previous subsection and check they are equivalent"
      ]
    },
    {
      "cell_type": "code",
      "execution_count": null,
      "metadata": {
        "id": "FnRpO21K9I-Z"
      },
      "outputs": [],
      "source": []
    },
    {
      "cell_type": "markdown",
      "metadata": {
        "id": "tIae3Ra79I-Z"
      },
      "source": [
        "2. Construct a noisy-OR model with $K=6$ and $\\boldsymbol{\\lambda} = (10^{-4}, 0.99, 0.9, 0.8, 0.7, 0.6, 0.5)$. Again, assume uniform priors for $x_k$ and $P(L=1)=1$.\n",
        "    - For $\\mathbf{x}=(0,0,0,0,0,1)$, what is the probability $p(y|\\mathbf{x})$?\n",
        "    - Let $\\mathbf{x}=(1,0,0,0,0,1)$ What is the probability $p(y|\\mathbf{x})$?"
      ]
    },
    {
      "cell_type": "code",
      "execution_count": null,
      "metadata": {
        "id": "65NM4gvU9I-Z"
      },
      "outputs": [],
      "source": []
    },
    {
      "cell_type": "markdown",
      "metadata": {
        "id": "AJWStVZG9I-a"
      },
      "source": [
        "## References\n",
        "\n",
        "\\[1\\]  J. Pearl. Probabilistic reasoning in intelligent systems: networks of plausible inference. Elsevier, 2014."
      ]
    },
    {
      "cell_type": "code",
      "execution_count": null,
      "metadata": {
        "id": "5NMs7CrS9I-a"
      },
      "outputs": [],
      "source": []
    }
  ],
  "metadata": {
    "kernelspec": {
      "display_name": "Python 3",
      "language": "python",
      "name": "python3"
    },
    "language_info": {
      "codemirror_mode": {
        "name": "ipython",
        "version": 3
      },
      "file_extension": ".py",
      "mimetype": "text/x-python",
      "name": "python",
      "nbconvert_exporter": "python",
      "pygments_lexer": "ipython3",
      "version": "3.6.9"
    },
    "colab": {
      "provenance": []
    }
  },
  "nbformat": 4,
  "nbformat_minor": 0
}