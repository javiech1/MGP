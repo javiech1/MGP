{
  "cells": [
    {
      "cell_type": "code",
      "source": [
        "!pip install -q pgmpy"
      ],
      "metadata": {
        "id": "cjaC4T-575_6"
      },
      "execution_count": null,
      "outputs": []
    },
    {
      "cell_type": "markdown",
      "metadata": {
        "id": "4cD7bnMh7w8U"
      },
      "source": [
        "# Introduction to pgmpy\n",
        "\n",
        "This is an introduction to the [pgmpy library](http://www.pgmpy.org). By the end of this tutorial you will be able to\n",
        "- Define and perform operations with potentials (i.e. probability tables)\n",
        "- Build and display a Bayesian Network\n",
        "- Load a Bayesian Network from a file and export it"
      ]
    },
    {
      "cell_type": "markdown",
      "metadata": {
        "id": "Sd4IyTUX7w8Y"
      },
      "source": [
        "## The problem\n",
        "\n",
        "**\\[BRML\\] Example 1.3.** Inspector Clouseau arrives at the scene of a crime. The victim lies dead in the room alongside the possible murder weapon, a knife. The Butler (B) and Maid (M) are the inspector's main suspects and the inspector has a prior belief of 0.6 that the Butler is the murderer, and a prior belief of 0.2 that the Maid is the murderer. These beliefs are independent in the sense that p(B,M) = p(B)p(M). (It is possible that both the Butler and the Maid murdered the victim or neither).\n"
      ]
    },
    {
      "cell_type": "markdown",
      "metadata": {
        "id": "hEWbHjlg7w8Z"
      },
      "source": [
        "## Defining potentials\n",
        "\n",
        "We will represent our probability tables as Factors. An instance of DiscreteFactor is initialized as follows:\n",
        "\n",
        "```python\n",
        "def __init__(self, variables, cardinality, values, state_names={}):\n",
        "    \"\"\"\n",
        "    Initialize a factor class.\n",
        "\n",
        "    Defined above, we have the following mapping from variable\n",
        "    assignments to the index of the row vector in the value field:\n",
        "    +-----+-----+-----+-------------------+\n",
        "    |  x1 |  x2 |  x3 |    phi(x1, x2, x3)|\n",
        "    +-----+-----+-----+-------------------+\n",
        "    | x1_0| x2_0| x3_0|     phi.value(0)  |\n",
        "    +-----+-----+-----+-------------------+\n",
        "    | x1_0| x2_0| x3_1|     phi.value(1)  |\n",
        "    +-----+-----+-----+-------------------+\n",
        "    | x1_0| x2_1| x3_0|     phi.value(2)  |\n",
        "    +-----+-----+-----+-------------------+\n",
        "    | x1_0| x2_1| x3_1|     phi.value(3)  |\n",
        "    +-----+-----+-----+-------------------+\n",
        "    | x1_1| x2_0| x3_0|     phi.value(4)  |\n",
        "    +-----+-----+-----+-------------------+\n",
        "    | x1_1| x2_0| x3_1|     phi.value(5)  |\n",
        "    +-----+-----+-----+-------------------+\n",
        "    | x1_1| x2_1| x3_0|     phi.value(6)  |\n",
        "    +-----+-----+-----+-------------------+\n",
        "    | x1_1| x2_1| x3_1|     phi.value(7)  |\n",
        "    +-----+-----+-----+-------------------+\n",
        "\n",
        "    Parameters\n",
        "    ----------\n",
        "    variables: list, array-like\n",
        "        List of variables in the scope of the factor.\n",
        "\n",
        "    cardinality: list, array_like\n",
        "        List of cardinalities of each variable. `cardinality` array must have a value\n",
        "        corresponding to each variable in `variables`.\n",
        "\n",
        "    values: list, array_like\n",
        "        List of values of factor.\n",
        "        A DiscreteFactor's values are stored in a row vector in the value\n",
        "        using an ordering such that the left-most variables as defined in\n",
        "        `variables` cycle through their values the fastest.\n",
        "        \n",
        "    state_names (optional): dict\n",
        "        A dict where (key,value)=(variable, list of states)\n",
        "```\n",
        "\n",
        "Let's define the factors of our model:"
      ]
    },
    {
      "cell_type": "code",
      "execution_count": null,
      "metadata": {
        "id": "Q2DHlepp7w8b"
      },
      "outputs": [],
      "source": [
        "import numpy as np\n",
        "from pgmpy.factors.discrete import DiscreteFactor, TabularCPD\n",
        "\n",
        "# Define variables and domains\n",
        "variables = [\"Butler\", \"Maid\", \"Knife\"]\n",
        "domains = {\"Butler\": [\"murderer\", \"not_murderer\"],\n",
        "           \"Maid\": [\"murderer\", \"not_murderer\"],\n",
        "           \"Knife\": [\"used\", \"not_used\"]}\n",
        "\n",
        "p = dict() # we'll use this to store our potentials\n",
        "\n",
        "p[\"B\"] = DiscreteFactor(variables=[\"Butler\"],\n",
        "                        cardinality=[len(domains[\"Butler\"])],\n",
        "                        values=[0.6, 0.4],\n",
        "                        state_names=domains)\n",
        "\n",
        "print(\"p(Butler) =\\n\", p[\"B\"])"
      ]
    },
    {
      "cell_type": "markdown",
      "metadata": {
        "id": "GIfKHKme7w8f"
      },
      "source": [
        "Define $P(M)$ according to inspector Clouseau's prior:"
      ]
    },
    {
      "cell_type": "code",
      "execution_count": 17,
      "metadata": {
        "id": "OBLVvgBx7w8g",
        "colab": {
          "base_uri": "https://localhost:8080/"
        },
        "outputId": "7842cd32-db12-41a7-eb5a-cac8bffaffac"
      },
      "outputs": [
        {
          "output_type": "stream",
          "name": "stdout",
          "text": [
            "+--------------------+-------------+\n",
            "| Maid               |   phi(Maid) |\n",
            "+====================+=============+\n",
            "| Maid(murderer)     |      0.2000 |\n",
            "+--------------------+-------------+\n",
            "| Maid(not_murderer) |      0.8000 |\n",
            "+--------------------+-------------+\n"
          ]
        }
      ],
      "source": [
        "p[\"M\"] = DiscreteFactor(variables=[\"Maid\"],\n",
        "                        cardinality=[len(domains[\"Maid\"])],\n",
        "                        values=[0.2, 0.8],\n",
        "                        state_names=domains)\n",
        "print(p['M'])"
      ]
    },
    {
      "cell_type": "markdown",
      "metadata": {
        "id": "kTEFtjbK7w8g"
      },
      "source": [
        "Define $P(K|B,M)$ as shown in the table:\n",
        "\n",
        "|   Knife  |    Butler    |     Maid     | P(Knife\\|Butler,Maid) |\n",
        "|:--------:|:------------:|:------------:|:---------------------:|\n",
        "|   used   |   murderer   |   murderer   |          0.3          |\n",
        "|   used   |   murderer   | not_murderer |          0.2          |\n",
        "|   used   | not_murderer |   murderer   |          0.6          |\n",
        "|   used   | not_murderer | not_murderer |          0.1          |\n",
        "| not_used |   murderer   |   murderer   |          0.7          |\n",
        "| not_used |   murderer   | not_murderer |          0.8          |\n",
        "| not_used | not_murderer |   murderer   |          0.4          |\n",
        "| not_used | not_murderer | not_murderer |          0.9          |"
      ]
    },
    {
      "cell_type": "code",
      "execution_count": null,
      "metadata": {
        "id": "EESlWyc97w8h"
      },
      "outputs": [],
      "source": []
    },
    {
      "cell_type": "markdown",
      "metadata": {
        "id": "M3Gkk8kl7w8i"
      },
      "source": [
        "## Operations with potentials\n",
        "\n",
        "Let's compute the joint probability from the factored distributions, representing our whole model:"
      ]
    },
    {
      "cell_type": "code",
      "execution_count": null,
      "metadata": {
        "id": "ziO_n5RD7w8i"
      },
      "outputs": [],
      "source": [
        "print(\"p(K,B,M)\")\n",
        "p[\"K,B,M\"] = p[\"K|B,M\"] * p[\"B\"] * p[\"M\"] # not working? did you define p[\"K|B,M\"] and p[\"M\"]?\n",
        "print(p[\"K,B,M\"])\n",
        "print(\"Sum of values: \", np.sum(p[\"K,B,M\"].values)) # should sum to 1"
      ]
    },
    {
      "cell_type": "markdown",
      "metadata": {
        "id": "6jbcOzm57w8j"
      },
      "source": [
        "From p(K,B,M) we can compute other conditional probability tables. For instance, let's compute p(Knife,Butler|Maid)."
      ]
    },
    {
      "cell_type": "code",
      "execution_count": null,
      "metadata": {
        "id": "fU-d6JO-7w8j"
      },
      "outputs": [],
      "source": [
        "print(\"p(K,B|M) = p(K,B,M)/p(M)\")\n",
        "p[\"K,B|M\"] = p[\"K,B,M\"]/p[\"M\"]\n",
        "print(p[\"K,B|M\"])\n",
        "print(\"Sum of values: \", np.sum(p[\"K,B|M\"].values))"
      ]
    },
    {
      "cell_type": "markdown",
      "metadata": {
        "id": "TxT8LlPG7w8k"
      },
      "source": [
        "We can also reduce the table to a specific value, e.g. when Maid=murderer.\n",
        "\n",
        "The method ```reduce``` needs a list of tuples: ```[(var_0, value_0), var_1, value_1, ...]```"
      ]
    },
    {
      "cell_type": "code",
      "execution_count": null,
      "metadata": {
        "id": "GAwNu0dj7w8k"
      },
      "outputs": [],
      "source": [
        "p_KB_Mm = p[\"K,B|M\"].reduce([(\"Maid\", \"murderer\")], inplace=False)\n",
        "print(\"p(K,B|M=murderer)\")\n",
        "print(p_KB_Mm)\n",
        "print(\"Sum of values: \", np.sum(p_KB_Mm.values))"
      ]
    },
    {
      "cell_type": "markdown",
      "metadata": {
        "id": "-GaoCKNk7w8k"
      },
      "source": [
        "To marginalize over one variable we can use the method ```marginalize```. It receives a list of variables ```[var_0, var_1, ...]```."
      ]
    },
    {
      "cell_type": "code",
      "execution_count": null,
      "metadata": {
        "id": "PRhLpE0E7w8l"
      },
      "outputs": [],
      "source": [
        "p_M = p[\"K,B,M\"].marginalize([\"Knife\", \"Butler\"], inplace=False)\n",
        "print(p_M)"
      ]
    },
    {
      "cell_type": "markdown",
      "metadata": {
        "id": "6uK6VX_d7w8l"
      },
      "source": [
        "Note that we used the argument ```inplace=False```.\n",
        "\n",
        "**Warning**: pgmpy modifies the given instance by default. To create a new instance when calling a method we need to specify inplace=False. For instance, if we don't specify inplace=False, when marginalizing P(K,B,M) to obtain p(M) we would be modifying the instance P(K,B,M), losing the information about K and B. Let's see an example:"
      ]
    },
    {
      "cell_type": "code",
      "execution_count": null,
      "metadata": {
        "id": "vwdJuwNZ7w8l"
      },
      "outputs": [],
      "source": [
        "# First we create a copy, since we're going to lose the information stored in pKBM\n",
        "p_KBM = p[\"K,B,M\"].copy()\n",
        "# Marginalizing it with inplace=True (default) will return None, it is intended to be used as a procedure:\n",
        "p_M_2 = p_KBM.marginalize([\"Knife\", \"Butler\"])\n",
        "print(\"P(Maid)?:\")\n",
        "print(p_M_2)\n",
        "print(\"\")\n",
        "print(\"P(Knife, Butler, Maid)?:\")\n",
        "print(p_KBM)"
      ]
    },
    {
      "cell_type": "markdown",
      "metadata": {
        "id": "PHONJjp_7w8m"
      },
      "source": [
        "#### Exercise\n",
        "So far we have seen how to multiply and divide factors, perform marginalizations, and reduce the table to one variable value. Now, compute the following probability tables:\n",
        "- P(Knife)\n",
        "- P(Butler, Maid | Knife=used)\n",
        "- P(Butler | Knife)\n",
        "- P(Maid | Butler)\n",
        "- P(Maid | Knife=notused, Butler=notmurderer)\n",
        "\n",
        "Troubleshoting: Most errors come from executing methods like marginalize and reduce with ```inplace=True``` (default). You need to execute previous cells to recover the value of the factor. It may be easiest to run all cells (```Cell -> Run all``` or ```Cell-> Run all above```) or even to restart the kernel (```Kernel -> Restart & Run All```)."
      ]
    },
    {
      "cell_type": "code",
      "execution_count": null,
      "metadata": {
        "id": "cLraeayk7w8m"
      },
      "outputs": [],
      "source": []
    },
    {
      "cell_type": "markdown",
      "metadata": {
        "id": "m1Tjkmk87w8n"
      },
      "source": [
        "## TabularCPD and JointProbabilityDistribution\n",
        "\n",
        "In pgmpy, there are two classes that inherit from DiscreteFactor:\n",
        "- TabularCPD\n",
        "- JointProbabilityDistribution\n",
        "\n",
        "In general, **we will not use these two classes** to represent and perform operations between potentials (we show why later).\n",
        "\n",
        "### Tabular\n",
        "\n",
        "A TabularCPD can be created as follows:\n",
        "```python\n",
        "def __init__(self, variable, variable_card, values, evidence=None, evidence_card=None, state_names={})\n",
        "\"\"\"\n",
        "    Defines the conditional probability distribution table (cpd table)\n",
        "\n",
        "    Parameters\n",
        "    ----------\n",
        "    variable: int, string (any hashable python object)\n",
        "        The variable whose CPD is defined.\n",
        "\n",
        "    variable_card: integer\n",
        "        cardinality of variable\n",
        "\n",
        "    values: 2d array, 2d list or 2d tuple\n",
        "        values of the cpd table\n",
        "\n",
        "    evidence: array-like\n",
        "        evidences(if any) w.r.t. which cpd is defined\n",
        "\n",
        "    evidence_card: integer, array-like\n",
        "        cardinality of evidences (if any)\n",
        "\n",
        "    Examples\n",
        "    --------\n",
        "    For a distribution of P(grade|diff, intel)\n",
        "\n",
        "    +-------+--------------------+------------------+\n",
        "    |diff   |      easy          |    hard          |\n",
        "    +-------+-----+------+-------+------+----+------+\n",
        "    |intel  |dumb |  avg | smart | dumb |avg |smart |\n",
        "    +-------+-----+------+-------+------+----+------+\n",
        "    |gradeA |0.1  |  0.1 |  0.1  | 0.1  |0.1 | 0.1  |\n",
        "    +-------+-----+------+-------+------+----+------+\n",
        "    |gradeB |0.1  |  0.1 |  0.1  | 0.1  |0.1 | 0.1  |\n",
        "    +-------+-----+------+-------+------+----+------+\n",
        "    |gradeC |0.8  |  0.8 |  0.8  | 0.8  |0.8 | 0.8  |\n",
        "    +-------+-----+------+-------+------+----+------+\n",
        "\n",
        "    values should be\n",
        "    [[0.1,0.1,0.1,0.1,0.1,0.1],\n",
        "    [0.1,0.1,0.1,0.1,0.1,0.1],\n",
        "    [0.8,0.8,0.8,0.8,0.8,0.8]]\n",
        "\n",
        "    >>> cpd = TabularCPD('grade',3,[[0.1,0.1,0.1,0.1,0.1,0.1],\n",
        "                                    [0.1,0.1,0.1,0.1,0.1,0.1],\n",
        "                                    [0.8,0.8,0.8,0.8,0.8,0.8]],\n",
        "                                    evidence=['diff', 'intel'], evidence_card=[2,3])\n",
        "\n",
        "```\n",
        "\n",
        "Let's create p(Knife|Butler,Maid) as a TabularCPD:"
      ]
    },
    {
      "cell_type": "code",
      "execution_count": null,
      "metadata": {
        "scrolled": true,
        "id": "juUfY3GL7w8n"
      },
      "outputs": [],
      "source": [
        "from pgmpy.factors.discrete import TabularCPD\n",
        "\n",
        "cpd = dict()\n",
        "\n",
        "cpd[\"K|B,M\"] = TabularCPD(variable=\"Knife\",\n",
        "                         variable_card=len(domains[\"Knife\"]),\n",
        "                         evidence=[\"Butler\", \"Maid\"],\n",
        "                         evidence_card=[len(domains[\"Butler\"]), len(domains[\"Maid\"])],\n",
        "                         values=[[0.3, 0.2, 0.6, 0.1],\n",
        "                                 [0.7, 0.8, 0.4, 0.9]])\n",
        "\n",
        "print(repr(cpd[\"K|B,M\"]))\n",
        "print(cpd[\"K|B,M\"])"
      ]
    },
    {
      "cell_type": "markdown",
      "metadata": {
        "id": "eFfbrdqL7w8n"
      },
      "source": [
        "Note that apart from separating the variables, we need to specify the values in a different way. TabularCPD contains the same information as our previous definition as a DiscreteFactor, but rearranged in a table of size 2x4. Therefore, it is equal to our previous definition (although not the same object, of course):"
      ]
    },
    {
      "cell_type": "code",
      "execution_count": null,
      "metadata": {
        "id": "Lb0QR8bH7w8o"
      },
      "outputs": [],
      "source": [
        "print('cpd[\"K|B,M\"] equal to p[\"K|B,M\"]:', cpd[\"K|B,M\"] == p[\"K|B,M\"])\n",
        "print('cpd[\"K|B,M\"] is p[\"K|B,M\"]:', cpd[\"K|B,M\"] is p[\"K|B,M\"])"
      ]
    },
    {
      "cell_type": "markdown",
      "metadata": {
        "id": "iq5juqmh7w8o"
      },
      "source": [
        "We can get a DiscreteFactor from a TabularCPD with the method ```to_factor```. However, it won't keep the state names:"
      ]
    },
    {
      "cell_type": "code",
      "execution_count": null,
      "metadata": {
        "id": "sJW6icZ_7w8o"
      },
      "outputs": [],
      "source": [
        "print(cpd[\"K|B,M\"].to_factor())"
      ]
    },
    {
      "cell_type": "markdown",
      "metadata": {
        "id": "DOK_XHGY7w8o"
      },
      "source": [
        "### What is the problem of TabularCPD?\n",
        "As far as we know, TabularCPD inherits from DiscreteFactor and represents a conditional probability distribution. So why don't we use it from the begining? What is wrong with it? Let's try to perform operations with it. What happens when we compute p(Knife,Maid|Butler) = p(Knife|Butler,Maid)p(Maid)?"
      ]
    },
    {
      "cell_type": "code",
      "execution_count": null,
      "metadata": {
        "id": "CBDQFTDM7w8p"
      },
      "outputs": [],
      "source": [
        "cpd_KM_B = cpd[\"K|B,M\"]*p[\"M\"]\n",
        "print(repr(cpd_KM_B))\n",
        "print(cpd_KM_B)"
      ]
    },
    {
      "cell_type": "markdown",
      "metadata": {
        "id": "p3zubGtC7w8r"
      },
      "source": [
        "This seems wrong. It shows it as P(Knife|Butler,Maid) instead of P(Knife,Maid|Butler). This is because, in pgmpy, performing an operation in a TabularCPD returns another TabularCPD. A TabularCPD is not general enough to represent this, since it only allows one variable in the left-hand side. The values of the table, however, are ok, but the interpretation (the class) is not. This is why we will **always use factors** to perform operations."
      ]
    },
    {
      "cell_type": "code",
      "execution_count": null,
      "metadata": {
        "id": "_Be6F5X57w8r"
      },
      "outputs": [],
      "source": [
        "p_KM_B = cpd_KM_B.to_factor()\n",
        "print(\"P(Knife,Maid|Butler):\")\n",
        "print(p_KM_B) # the values of the probability table are ok, their interpretation (the class) was not"
      ]
    },
    {
      "cell_type": "markdown",
      "metadata": {
        "id": "RyXPBcsI7w8r"
      },
      "source": [
        "This is even worse if we get a joint probability distribution:"
      ]
    },
    {
      "cell_type": "code",
      "execution_count": null,
      "metadata": {
        "id": "uuYIz6za7w8r"
      },
      "outputs": [],
      "source": [
        "joint_from_cpd = cpd[\"K|B,M\"] * p[\"B\"] * p[\"M\"]\n",
        "print(repr(joint_from_cpd))\n",
        "print(joint_from_cpd)"
      ]
    },
    {
      "cell_type": "markdown",
      "metadata": {
        "id": "UtHuYkny7w8s"
      },
      "source": [
        "This is completely wrong: there should be no conditioning at all, but pgmpy does not know that, it just performs the operations and returns them in a TabularCPD object. Again, the values are ok, we can check it is a distribution since they sum to 1. Also, checking with ```is_valid_cpd``` tells us that this is not a well-defined CPD, as expected."
      ]
    },
    {
      "cell_type": "code",
      "execution_count": null,
      "metadata": {
        "id": "tz-2KNlb7w8s"
      },
      "outputs": [],
      "source": [
        "print(\"Valid CPD:\", joint_from_cpd.is_valid_cpd())\n",
        "print(\"Sum of values:\", np.sum(joint_from_cpd.values))"
      ]
    },
    {
      "cell_type": "markdown",
      "metadata": {
        "id": "O4iASTXV7w8s"
      },
      "source": [
        "Why do we need TabularCPD at all, then? Well, when defining a Bayesian Network, we will need to specify the probability tables as a list of TabularCPD instances. We recommend that you **work using DiscreteFactors and translate them to TabularCPDs when you need them to specify the graphical model**.\n",
        "\n",
        "Here we provide a function that given a factor and a variable, it returns the corresponding TabularCPD."
      ]
    },
    {
      "cell_type": "code",
      "execution_count": null,
      "metadata": {
        "id": "8TJfoYsn7w8s"
      },
      "outputs": [],
      "source": [
        "def to_cpd(phi, x):\n",
        "    \"\"\"\n",
        "    Returns a TabularCPD object from a DiscreteFactor. For a given factor phi(x_0, ..., x_n)\n",
        "    and a variable x_i, it interprets the factor as a CPD P(x_i|Y), where Y is the set of all\n",
        "    variables in phi except x_i. I.e. P(x_i|x_0, ..., x_{i-1}, x_{i+1}, ..., x_n).\n",
        "    It also checks that the factor is a valid conditional probability distribution.\n",
        "    \"\"\"\n",
        "    assert x in phi.variables\n",
        "    idx = phi.variables.index(x)\n",
        "    card = list(phi.cardinality)\n",
        "    var_card = card[idx]\n",
        "    evidence_card = card[:idx] + card[idx+1:]\n",
        "    values = np.moveaxis(phi.values, idx, 0) # move variable x to dimension 0\n",
        "    return TabularCPD(variable=x,\n",
        "                      variable_card=var_card,\n",
        "                      evidence=phi.variables[:idx] + phi.variables[idx+1:],\n",
        "                      evidence_card=evidence_card,\n",
        "                      values=values.reshape(var_card, int(np.prod(evidence_card))), # int cast since np.prod([])=1.0\n",
        "                      state_names=phi.state_names)"
      ]
    },
    {
      "cell_type": "code",
      "execution_count": null,
      "metadata": {
        "id": "Qjbl8RmY7w8t"
      },
      "outputs": [],
      "source": [
        "cpd[\"K|B,M\"] = to_cpd(p[\"K|B,M\"], \"Knife\")\n",
        "print(cpd[\"K|B,M\"])"
      ]
    },
    {
      "cell_type": "markdown",
      "metadata": {
        "id": "rZYppCZ47w8t"
      },
      "source": [
        "Try it with the tables p(Knife), p(Butler|Knife), p(Maid|Knife) and p(Maid|Knife,Butler) that you have computed before.\n",
        "\n",
        "Note that we cannot try it with p(Butler,Maid|Knife), for instance, because TabularCPD cannot express such CPD."
      ]
    },
    {
      "cell_type": "code",
      "execution_count": null,
      "metadata": {
        "id": "vac6XDyi7w8t"
      },
      "outputs": [],
      "source": []
    },
    {
      "cell_type": "markdown",
      "metadata": {
        "id": "m5MrPQ-27w8t"
      },
      "source": [
        "### JointProbabilityDistribution\n",
        "We also have another class for Joint Probability Distributions (JPD). This class also inherits from DiscreteFactor and offers some functionality specific to JPDs. Similar to TabularCPDs, when performing operations on a JointProbabilityDistribution instance, we will get another instance of the same class. Again, the values of the probability table will be right, but they should not be interpreted as a JPD. We also provide a function to go from DiscreteFactor to JointProbabilityDistribution."
      ]
    },
    {
      "cell_type": "code",
      "execution_count": null,
      "metadata": {
        "id": "4J1WlPzR7w8t"
      },
      "outputs": [],
      "source": [
        "from pgmpy.factors.discrete import JointProbabilityDistribution\n",
        "\n",
        "def to_jdp(p):\n",
        "    return JointProbabilityDistribution(variables=p.variables,\n",
        "                                        cardinality=p.cardinality,\n",
        "                                        values=p.values)"
      ]
    },
    {
      "cell_type": "code",
      "execution_count": null,
      "metadata": {
        "id": "8O5UPb7c7w8u"
      },
      "outputs": [],
      "source": [
        "jdp_KBM = to_jdp(p[\"K,B,M\"]) # if this does not work it is most probably because you forgot an \"inplace=False\" somewhere\n",
        "print(repr(jdp_KBM))\n",
        "print(jdp_KBM) # note the P() instead of phi() in the representation"
      ]
    },
    {
      "cell_type": "markdown",
      "metadata": {
        "id": "ry4074fB7w8u"
      },
      "source": [
        "## Bayesian Networks\n",
        "\n",
        "From the documentation:\n",
        "```python\n",
        "class BayesianModel(DAG):\n",
        "    \"\"\"\n",
        "    Base class for bayesian model.\n",
        "\n",
        "    A models stores nodes and edges with conditional probability\n",
        "    distribution (cpd) and other attributes.\n",
        "\n",
        "    models hold directed edges.  Self loops are not allowed neither\n",
        "    multiple (parallel) edges.\n",
        "\n",
        "    Nodes can be any hashable python object.\n",
        "\n",
        "    Edges are represented as links between nodes.\n",
        "\n",
        "    Parameters\n",
        "    ----------\n",
        "    data : input graph\n",
        "        Data to initialize graph.  If data=None (default) an empty\n",
        "        graph is created.  The data can be an edge list, or any\n",
        "        NetworkX graph object.\n",
        "```\n",
        "\n",
        "### Creating a Bayesian Network\n",
        "\n",
        "Let's create our model, add the CPDs and check it:"
      ]
    },
    {
      "cell_type": "code",
      "execution_count": null,
      "metadata": {
        "id": "vW6_xuUk7w8u"
      },
      "outputs": [],
      "source": [
        "from pgmpy.models import BayesianNetwork\n",
        "\n",
        "model = BayesianNetwork([(\"Butler\", \"Knife\"), (\"Maid\", \"Knife\")])\n",
        "cpd_B = to_cpd(p[\"B\"], \"Butler\")\n",
        "cpd_M = to_cpd(p[\"M\"], \"Maid\")\n",
        "cpd_K_BM = to_cpd(p[\"K|B,M\"], \"Knife\")\n",
        "model.add_cpds(cpd_M, cpd_B, cpd_K_BM) # the order is not important\n",
        "print(\"Model OK:\", model.check_model())"
      ]
    },
    {
      "cell_type": "markdown",
      "metadata": {
        "id": "rpyYKa3f7w8u"
      },
      "source": [
        "We can get the list of CPDs with ```model.get_cpds()```:"
      ]
    },
    {
      "cell_type": "code",
      "execution_count": null,
      "metadata": {
        "id": "s1U7Omfj7w8v"
      },
      "outputs": [],
      "source": [
        "print(\"CPDs list:\")\n",
        "print(model.get_cpds())\n",
        "\n",
        "print(\"\")\n",
        "print(\"CPD for Butler:\")\n",
        "print(model.get_cpds(\"Butler\"))\n",
        "\n",
        "print(\"\")\n",
        "print(\"CPD for Knife:\")\n",
        "print(model.get_cpds(\"Knife\"))"
      ]
    },
    {
      "cell_type": "markdown",
      "metadata": {
        "id": "oBO7CGqn7w8v"
      },
      "source": [
        "We can also check the independencies with ```model.local_independencies(vars)```. Try it out:"
      ]
    },
    {
      "cell_type": "code",
      "execution_count": null,
      "metadata": {
        "id": "bnrGOmoU7w8v"
      },
      "outputs": [],
      "source": []
    },
    {
      "cell_type": "markdown",
      "metadata": {
        "id": "-MbuZhmD7w8v"
      },
      "source": [
        "### Displaying the network\n",
        "pgmpy uses networkx for graph structure. We can plot the network using networkx.draw"
      ]
    },
    {
      "cell_type": "code",
      "execution_count": null,
      "metadata": {
        "id": "TUeNAqCn7w8v",
        "colab": {
          "base_uri": "https://localhost:8080/",
          "height": 319
        },
        "outputId": "4f1099c2-14df-4239-cf67-13ef52fe3928"
      },
      "outputs": [
        {
          "output_type": "display_data",
          "data": {
            "image/png": "[encoded data removed]",
            "text/plain": [
              "<Figure size 432x288 with 1 Axes>"
            ]
          },
          "metadata": {}
        }
      ],
      "source": [
        "import networkx as nx\n",
        "\n",
        "nx.draw(model, with_labels=True)"
      ]
    },
    {
      "cell_type": "markdown",
      "metadata": {
        "id": "6AfSbSu37w8v"
      },
      "source": [
        "### Writing a network to a file\n",
        "\n",
        "There are many file formats for saving our model. We are going to use the BIF format. You can import the ```BIFWriter``` class from ```pgmpy.readwrite```. Write our model to file named \"closeau.bif\" with the function ```BIFWriter.write_bif```.\n",
        "\n",
        "In case you are not familiar with files in Google Colab checkout this <a href='https://neptune.ai/blog/google-colab-dealing-with-files'> link</a>."
      ]
    },
    {
      "cell_type": "code",
      "execution_count": null,
      "metadata": {
        "id": "LhiVZtKF7w8w"
      },
      "outputs": [],
      "source": []
    },
    {
      "cell_type": "markdown",
      "metadata": {
        "id": "QbbWmPFO7w8w"
      },
      "source": [
        "You should now have a file with the following information:\n",
        "\n",
        "```\n",
        "network unknown {\n",
        "}\n",
        "variable Butler {\n",
        "    type discrete [ 2 ] { Butler_0, Butler_1 };\n",
        "}\n",
        "variable Knife {\n",
        "    type discrete [ 2 ] { Knife_0, Knife_1 };\n",
        "}\n",
        "variable Maid {\n",
        "    type discrete [ 2 ] { Maid_0, Maid_1 };\n",
        "}\n",
        "probability ( Butler ) {\n",
        "    table 0.6, 0.4 ;\n",
        "}\n",
        "probability ( Knife | Butler, Maid ) {\n",
        "    table 0.3, 0.2, 0.6, 0.1, 0.7, 0.8, 0.4, 0.9 ;\n",
        "}\n",
        "probability ( Maid ) {\n",
        "    table 0.2, 0.8 ;\n",
        "}\n",
        "```\n",
        "\n",
        "As you can see it is quite straightforward: we define the variables, with their type, cardinality and state names together with the probability tables.\n",
        "\n",
        "For other BIF models, check this website: https://www.bnlearn.com/bnrepository/"
      ]
    },
    {
      "cell_type": "markdown",
      "metadata": {
        "id": "HTWa9kuH7w8w"
      },
      "source": [
        "### Reading a network from a file\n",
        "\n",
        "To import a Bayesian model from a BIF file, we can use the ```BIFReader``` class: ```BIFReader(\"bif_test.bif\").get_model()```.\n",
        "\n",
        "Choose a network from the bnlearn repository and download the BIF file. Have a look at the file, and change some parameters. Load the file with the method shown above. Display it and check the independencies."
      ]
    },
    {
      "cell_type": "code",
      "execution_count": null,
      "metadata": {
        "id": "eyKKS3Ou7w8w"
      },
      "outputs": [],
      "source": []
    }
  ],
  "metadata": {
    "kernelspec": {
      "display_name": "Python 3",
      "language": "python",
      "name": "python3"
    },
    "language_info": {
      "codemirror_mode": {
        "name": "ipython",
        "version": 3
      },
      "file_extension": ".py",
      "mimetype": "text/x-python",
      "name": "python",
      "nbconvert_exporter": "python",
      "pygments_lexer": "ipython3",
      "version": "3.6.9"
    },
    "colab": {
      "provenance": []
    }
  },
  "nbformat": 4,
  "nbformat_minor": 0
}