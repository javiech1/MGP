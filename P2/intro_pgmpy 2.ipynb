{
  "cells": [
    {
      "cell_type": "code",
      "execution_count": 1,
      "metadata": {
        "id": "cjaC4T-575_6"
      },
      "outputs": [],
      "source": [
        "#!pip install -q pgmpy"
      ]
    },
    {
      "cell_type": "markdown",
      "metadata": {
        "id": "4cD7bnMh7w8U"
      },
      "source": [
        "# Introduction to pgmpy\n",
        "\n",
        "This is an introduction to the [pgmpy library](http://www.pgmpy.org). By the end of this tutorial you will be able to\n",
        "- Define and perform operations with potentials (i.e. probability tables)\n",
        "- Build and display a Bayesian Network\n",
        "- Load a Bayesian Network from a file and export it"
      ]
    },
    {
      "cell_type": "markdown",
      "metadata": {
        "id": "Sd4IyTUX7w8Y"
      },
      "source": [
        "## The problem\n",
        "\n",
        "**\\[BRML\\] Example 1.3.** Inspector Clouseau arrives at the scene of a crime. The victim lies dead in the room alongside the possible murder weapon, a knife. The Butler (B) and Maid (M) are the inspector's main suspects and the inspector has a prior belief of 0.6 that the Butler is the murderer, and a prior belief of 0.2 that the Maid is the murderer. These beliefs are independent in the sense that p(B,M) = p(B)p(M). (It is possible that both the Butler and the Maid murdered the victim or neither).\n"
      ]
    },
    {
      "cell_type": "markdown",
      "metadata": {
        "id": "hEWbHjlg7w8Z"
      },
      "source": [
        "## Defining potentials\n",
        "\n",
        "We will represent our probability tables as Factors. An instance of DiscreteFactor is initialized as follows:\n",
        "\n",
        "```python\n",
        "def __init__(self, variables, cardinality, values, state_names={}):\n",
        "    \"\"\"\n",
        "    Initialize a factor class.\n",
        "\n",
        "    Defined above, we have the following mapping from variable\n",
        "    assignments to the index of the row vector in the value field:\n",
        "    +-----+-----+-----+-------------------+\n",
        "    |  x1 |  x2 |  x3 |    phi(x1, x2, x3)|\n",
        "    +-----+-----+-----+-------------------+\n",
        "    | x1_0| x2_0| x3_0|     phi.value(0)  |\n",
        "    +-----+-----+-----+-------------------+\n",
        "    | x1_0| x2_0| x3_1|     phi.value(1)  |\n",
        "    +-----+-----+-----+-------------------+\n",
        "    | x1_0| x2_1| x3_0|     phi.value(2)  |\n",
        "    +-----+-----+-----+-------------------+\n",
        "    | x1_0| x2_1| x3_1|     phi.value(3)  |\n",
        "    +-----+-----+-----+-------------------+\n",
        "    | x1_1| x2_0| x3_0|     phi.value(4)  |\n",
        "    +-----+-----+-----+-------------------+\n",
        "    | x1_1| x2_0| x3_1|     phi.value(5)  |\n",
        "    +-----+-----+-----+-------------------+\n",
        "    | x1_1| x2_1| x3_0|     phi.value(6)  |\n",
        "    +-----+-----+-----+-------------------+\n",
        "    | x1_1| x2_1| x3_1|     phi.value(7)  |\n",
        "    +-----+-----+-----+-------------------+\n",
        "\n",
        "    Parameters\n",
        "    ----------\n",
        "    variables: list, array-like\n",
        "        List of variables in the scope of the factor.\n",
        "\n",
        "    cardinality: list, array_like\n",
        "        List of cardinalities of each variable. `cardinality` array must have a value\n",
        "        corresponding to each variable in `variables`.\n",
        "\n",
        "    values: list, array_like\n",
        "        List of values of factor.\n",
        "        A DiscreteFactor's values are stored in a row vector in the value\n",
        "        using an ordering such that the left-most variables as defined in\n",
        "        `variables` cycle through their values the fastest.\n",
        "        \n",
        "    state_names (optional): dict\n",
        "        A dict where (key,value)=(variable, list of states)\n",
        "```\n",
        "\n",
        "Let's define the factors of our model:"
      ]
    },
    {
      "cell_type": "code",
      "execution_count": 2,
      "metadata": {
        "id": "Q2DHlepp7w8b"
      },
      "outputs": [
        {
          "name": "stdout",
          "output_type": "stream",
          "text": [
            "p(Butler) =\n",
            " +----------------------+---------------+\n",
            "| Butler               |   phi(Butler) |\n",
            "+======================+===============+\n",
            "| Butler(murderer)     |        0.6000 |\n",
            "+----------------------+---------------+\n",
            "| Butler(not_murderer) |        0.4000 |\n",
            "+----------------------+---------------+\n"
          ]
        }
      ],
      "source": [
        "import numpy as np\n",
        "from pgmpy.factors.discrete import DiscreteFactor, TabularCPD\n",
        "\n",
        "# Define variables and domains\n",
        "variables = [\"Butler\", \"Maid\", \"Knife\"]\n",
        "domains = {\"Butler\": [\"murderer\", \"not_murderer\"],\n",
        "           \"Maid\": [\"murderer\", \"not_murderer\"],\n",
        "           \"Knife\": [\"used\", \"not_used\"]}\n",
        "\n",
        "p = dict() # we'll use this to store our potentials\n",
        "\n",
        "p[\"B\"] = DiscreteFactor(variables=[\"Butler\"],\n",
        "                        cardinality=[len(domains[\"Butler\"])],\n",
        "                        values=[0.6, 0.4],\n",
        "                        state_names=domains)\n",
        "\n",
        "print(\"p(Butler) =\\n\", p[\"B\"])"
      ]
    },
    {
      "cell_type": "markdown",
      "metadata": {
        "id": "GIfKHKme7w8f"
      },
      "source": [
        "Define $P(M)$ according to inspector Clouseau's prior:"
      ]
    },
    {
      "cell_type": "code",
      "execution_count": 3,
      "metadata": {
        "colab": {
          "base_uri": "https://localhost:8080/"
        },
        "id": "OBLVvgBx7w8g",
        "outputId": "7842cd32-db12-41a7-eb5a-cac8bffaffac"
      },
      "outputs": [
        {
          "name": "stdout",
          "output_type": "stream",
          "text": [
            "+--------------------+-------------+\n",
            "| Maid               |   phi(Maid) |\n",
            "+====================+=============+\n",
            "| Maid(murderer)     |      0.2000 |\n",
            "+--------------------+-------------+\n",
            "| Maid(not_murderer) |      0.8000 |\n",
            "+--------------------+-------------+\n"
          ]
        }
      ],
      "source": [
        "p[\"M\"] = DiscreteFactor(variables=[\"Maid\"],\n",
        "                        cardinality=[len(domains[\"Maid\"])],\n",
        "                        values=[0.2, 0.8],\n",
        "                        state_names=domains)\n",
        "print(p['M'])"
      ]
    },
    {
      "cell_type": "markdown",
      "metadata": {
        "id": "kTEFtjbK7w8g"
      },
      "source": [
        "Define $P(K|B,M)$ as shown in the table:\n",
        "\n",
        "|   Knife  |    Butler    |     Maid     | P(Knife\\|Butler,Maid) |\n",
        "|:--------:|:------------:|:------------:|:---------------------:|\n",
        "|   used   |   murderer   |   murderer   |          0.3          |\n",
        "|   used   |   murderer   | not_murderer |          0.2          |\n",
        "|   used   | not_murderer |   murderer   |          0.6          |\n",
        "|   used   | not_murderer | not_murderer |          0.1          |\n",
        "| not_used |   murderer   |   murderer   |          0.7          |\n",
        "| not_used |   murderer   | not_murderer |          0.8          |\n",
        "| not_used | not_murderer |   murderer   |          0.4          |\n",
        "| not_used | not_murderer | not_murderer |          0.9          |"
      ]
    },
    {
      "cell_type": "code",
      "execution_count": 4,
      "metadata": {
        "id": "EESlWyc97w8h"
      },
      "outputs": [
        {
          "name": "stdout",
          "output_type": "stream",
          "text": [
            "+-----------------+----------------------+--------------------+--------------------------+\n",
            "| Knife           | Butler               | Maid               |   phi(Knife,Butler,Maid) |\n",
            "+=================+======================+====================+==========================+\n",
            "| Knife(used)     | Butler(murderer)     | Maid(murderer)     |                   0.3000 |\n",
            "+-----------------+----------------------+--------------------+--------------------------+\n",
            "| Knife(used)     | Butler(murderer)     | Maid(not_murderer) |                   0.2000 |\n",
            "+-----------------+----------------------+--------------------+--------------------------+\n",
            "| Knife(used)     | Butler(not_murderer) | Maid(murderer)     |                   0.6000 |\n",
            "+-----------------+----------------------+--------------------+--------------------------+\n",
            "| Knife(used)     | Butler(not_murderer) | Maid(not_murderer) |                   0.1000 |\n",
            "+-----------------+----------------------+--------------------+--------------------------+\n",
            "| Knife(not_used) | Butler(murderer)     | Maid(murderer)     |                   0.7000 |\n",
            "+-----------------+----------------------+--------------------+--------------------------+\n",
            "| Knife(not_used) | Butler(murderer)     | Maid(not_murderer) |                   0.8000 |\n",
            "+-----------------+----------------------+--------------------+--------------------------+\n",
            "| Knife(not_used) | Butler(not_murderer) | Maid(murderer)     |                   0.4000 |\n",
            "+-----------------+----------------------+--------------------+--------------------------+\n",
            "| Knife(not_used) | Butler(not_murderer) | Maid(not_murderer) |                   0.9000 |\n",
            "+-----------------+----------------------+--------------------+--------------------------+\n"
          ]
        }
      ],
      "source": [
        "p['K|B,M'] = DiscreteFactor(variables=['Knife', 'Butler', 'Maid'],\n",
        "                            cardinality=[len(domains[domain]) for domain in domains],\n",
        "                            values = [0.3, 0.2, 0.6, 0.1, 0.7, 0.8, 0.4, 0.9],\n",
        "                            state_names=domains)\n",
        "\n",
        "print(p['K|B,M'])"
      ]
    },
    {
      "cell_type": "markdown",
      "metadata": {
        "id": "M3Gkk8kl7w8i"
      },
      "source": [
        "## Operations with potentials\n",
        "\n",
        "Let's compute the joint probability from the factored distributions, representing our whole model:"
      ]
    },
    {
      "cell_type": "code",
      "execution_count": 5,
      "metadata": {
        "id": "ziO_n5RD7w8i"
      },
      "outputs": [
        {
          "name": "stdout",
          "output_type": "stream",
          "text": [
            "p(K,B,M)\n",
            "+-----------------+----------------------+--------------------+--------------------------+\n",
            "| Knife           | Butler               | Maid               |   phi(Knife,Butler,Maid) |\n",
            "+=================+======================+====================+==========================+\n",
            "| Knife(used)     | Butler(murderer)     | Maid(murderer)     |                   0.0360 |\n",
            "+-----------------+----------------------+--------------------+--------------------------+\n",
            "| Knife(used)     | Butler(murderer)     | Maid(not_murderer) |                   0.0960 |\n",
            "+-----------------+----------------------+--------------------+--------------------------+\n",
            "| Knife(used)     | Butler(not_murderer) | Maid(murderer)     |                   0.0480 |\n",
            "+-----------------+----------------------+--------------------+--------------------------+\n",
            "| Knife(used)     | Butler(not_murderer) | Maid(not_murderer) |                   0.0320 |\n",
            "+-----------------+----------------------+--------------------+--------------------------+\n",
            "| Knife(not_used) | Butler(murderer)     | Maid(murderer)     |                   0.0840 |\n",
            "+-----------------+----------------------+--------------------+--------------------------+\n",
            "| Knife(not_used) | Butler(murderer)     | Maid(not_murderer) |                   0.3840 |\n",
            "+-----------------+----------------------+--------------------+--------------------------+\n",
            "| Knife(not_used) | Butler(not_murderer) | Maid(murderer)     |                   0.0320 |\n",
            "+-----------------+----------------------+--------------------+--------------------------+\n",
            "| Knife(not_used) | Butler(not_murderer) | Maid(not_murderer) |                   0.2880 |\n",
            "+-----------------+----------------------+--------------------+--------------------------+\n",
            "Sum of values:  1.0\n"
          ]
        }
      ],
      "source": [
        "print(\"p(K,B,M)\")\n",
        "p[\"K,B,M\"] = p[\"K|B,M\"] * p[\"B\"] * p[\"M\"] # not working? did you define p[\"K|B,M\"] and p[\"M\"]?\n",
        "print(p[\"K,B,M\"])\n",
        "print(\"Sum of values: \", np.sum(p[\"K,B,M\"].values)) # should sum to 1"
      ]
    },
    {
      "cell_type": "markdown",
      "metadata": {
        "id": "6jbcOzm57w8j"
      },
      "source": [
        "From p(K,B,M) we can compute other conditional probability tables. For instance, let's compute p(Knife,Butler|Maid)."
      ]
    },
    {
      "cell_type": "code",
      "execution_count": 6,
      "metadata": {
        "id": "fU-d6JO-7w8j"
      },
      "outputs": [
        {
          "name": "stdout",
          "output_type": "stream",
          "text": [
            "p(K,B|M) = p(K,B,M)/p(M)\n",
            "+-----------------+----------------------+--------------------+--------------------------+\n",
            "| Knife           | Butler               | Maid               |   phi(Knife,Butler,Maid) |\n",
            "+=================+======================+====================+==========================+\n",
            "| Knife(used)     | Butler(murderer)     | Maid(murderer)     |                   0.1800 |\n",
            "+-----------------+----------------------+--------------------+--------------------------+\n",
            "| Knife(used)     | Butler(murderer)     | Maid(not_murderer) |                   0.1200 |\n",
            "+-----------------+----------------------+--------------------+--------------------------+\n",
            "| Knife(used)     | Butler(not_murderer) | Maid(murderer)     |                   0.2400 |\n",
            "+-----------------+----------------------+--------------------+--------------------------+\n",
            "| Knife(used)     | Butler(not_murderer) | Maid(not_murderer) |                   0.0400 |\n",
            "+-----------------+----------------------+--------------------+--------------------------+\n",
            "| Knife(not_used) | Butler(murderer)     | Maid(murderer)     |                   0.4200 |\n",
            "+-----------------+----------------------+--------------------+--------------------------+\n",
            "| Knife(not_used) | Butler(murderer)     | Maid(not_murderer) |                   0.4800 |\n",
            "+-----------------+----------------------+--------------------+--------------------------+\n",
            "| Knife(not_used) | Butler(not_murderer) | Maid(murderer)     |                   0.1600 |\n",
            "+-----------------+----------------------+--------------------+--------------------------+\n",
            "| Knife(not_used) | Butler(not_murderer) | Maid(not_murderer) |                   0.3600 |\n",
            "+-----------------+----------------------+--------------------+--------------------------+\n",
            "Sum of values:  2.0\n"
          ]
        }
      ],
      "source": [
        "print(\"p(K,B|M) = p(K,B,M)/p(M)\")\n",
        "p[\"K,B|M\"] = p[\"K,B,M\"]/p[\"M\"]\n",
        "print(p[\"K,B|M\"])\n",
        "print(\"Sum of values: \", np.sum(p[\"K,B|M\"].values))"
      ]
    },
    {
      "cell_type": "markdown",
      "metadata": {
        "id": "TxT8LlPG7w8k"
      },
      "source": [
        "We can also reduce the table to a specific value, e.g. when Maid=murderer.\n",
        "\n",
        "The method ```reduce``` needs a list of tuples: ```[(var_0, value_0), var_1, value_1, ...]```"
      ]
    },
    {
      "cell_type": "code",
      "execution_count": 7,
      "metadata": {
        "id": "GAwNu0dj7w8k"
      },
      "outputs": [
        {
          "name": "stdout",
          "output_type": "stream",
          "text": [
            "p(K,B|M=murderer)\n",
            "+-----------------+----------------------+---------------------+\n",
            "| Knife           | Butler               |   phi(Knife,Butler) |\n",
            "+=================+======================+=====================+\n",
            "| Knife(used)     | Butler(murderer)     |              0.1800 |\n",
            "+-----------------+----------------------+---------------------+\n",
            "| Knife(used)     | Butler(not_murderer) |              0.2400 |\n",
            "+-----------------+----------------------+---------------------+\n",
            "| Knife(not_used) | Butler(murderer)     |              0.4200 |\n",
            "+-----------------+----------------------+---------------------+\n",
            "| Knife(not_used) | Butler(not_murderer) |              0.1600 |\n",
            "+-----------------+----------------------+---------------------+\n",
            "Sum of values:  0.9999999999999999\n"
          ]
        }
      ],
      "source": [
        "p_KB_Mm = p[\"K,B|M\"].reduce([(\"Maid\", \"murderer\")], inplace=False)\n",
        "print(\"p(K,B|M=murderer)\")\n",
        "print(p_KB_Mm)\n",
        "print(\"Sum of values: \", np.sum(p_KB_Mm.values))"
      ]
    },
    {
      "cell_type": "markdown",
      "metadata": {
        "id": "-GaoCKNk7w8k"
      },
      "source": [
        "To marginalize over one variable we can use the method ```marginalize```. It receives a list of variables ```[var_0, var_1, ...]```."
      ]
    },
    {
      "cell_type": "code",
      "execution_count": 8,
      "metadata": {
        "id": "PRhLpE0E7w8l"
      },
      "outputs": [
        {
          "name": "stdout",
          "output_type": "stream",
          "text": [
            "+--------------------+-------------+\n",
            "| Maid               |   phi(Maid) |\n",
            "+====================+=============+\n",
            "| Maid(murderer)     |      0.2000 |\n",
            "+--------------------+-------------+\n",
            "| Maid(not_murderer) |      0.8000 |\n",
            "+--------------------+-------------+\n"
          ]
        }
      ],
      "source": [
        "p_M = p[\"K,B,M\"].marginalize([\"Knife\", \"Butler\"], inplace=False)\n",
        "print(p_M)"
      ]
    },
    {
      "cell_type": "markdown",
      "metadata": {
        "id": "6uK6VX_d7w8l"
      },
      "source": [
        "Note that we used the argument ```inplace=False```.\n",
        "\n",
        "**Warning**: pgmpy modifies the given instance by default. To create a new instance when calling a method we need to specify inplace=False. For instance, if we don't specify inplace=False, when marginalizing P(K,B,M) to obtain p(M) we would be modifying the instance P(K,B,M), losing the information about K and B. Let's see an example:"
      ]
    },
    {
      "cell_type": "code",
      "execution_count": 9,
      "metadata": {
        "id": "vwdJuwNZ7w8l"
      },
      "outputs": [
        {
          "name": "stdout",
          "output_type": "stream",
          "text": [
            "P(Maid)?:\n",
            "None\n",
            "\n",
            "P(Knife, Butler, Maid)?:\n",
            "+--------------------+-------------+\n",
            "| Maid               |   phi(Maid) |\n",
            "+====================+=============+\n",
            "| Maid(murderer)     |      0.2000 |\n",
            "+--------------------+-------------+\n",
            "| Maid(not_murderer) |      0.8000 |\n",
            "+--------------------+-------------+\n"
          ]
        }
      ],
      "source": [
        "# First we create a copy, since we're going to lose the information stored in pKBM\n",
        "p_KBM = p[\"K,B,M\"].copy()\n",
        "# Marginalizing it with inplace=True (default) will return None, it is intended to be used as a procedure:\n",
        "p_M_2 = p_KBM.marginalize([\"Knife\", \"Butler\"])\n",
        "print(\"P(Maid)?:\")\n",
        "print(p_M_2)\n",
        "print(\"\")\n",
        "print(\"P(Knife, Butler, Maid)?:\")\n",
        "print(p_KBM)"
      ]
    },
    {
      "cell_type": "markdown",
      "metadata": {
        "id": "PHONJjp_7w8m"
      },
      "source": [
        "#### Exercise\n",
        "So far we have seen how to multiply and divide factors, perform marginalizations, and reduce the table to one variable value. Now, compute the following probability tables:\n",
        "- P(Knife)\n",
        "- P(Butler, Maid | Knife=used)\n",
        "- P(Butler | Knife)\n",
        "- P(Maid | Butler)\n",
        "- P(Maid | Knife=notused, Butler=notmurderer)\n",
        "\n",
        "Troubleshoting: Most errors come from executing methods like marginalize and reduce with ```inplace=True``` (default). You need to execute previous cells to recover the value of the factor. It may be easiest to run all cells (```Cell -> Run all``` or ```Cell-> Run all above```) or even to restart the kernel (```Kernel -> Restart & Run All```)."
      ]
    },
    {
      "cell_type": "code",
      "execution_count": null,
      "metadata": {
        "id": "cLraeayk7w8m"
      },
      "outputs": [],
      "source": []
    },
    {
      "cell_type": "markdown",
      "metadata": {
        "id": "m1Tjkmk87w8n"
      },
      "source": [
        "## TabularCPD and JointProbabilityDistribution\n",
        "\n",
        "In pgmpy, there are two classes that inherit from DiscreteFactor:\n",
        "- TabularCPD\n",
        "- JointProbabilityDistribution\n",
        "\n",
        "In general, **we will not use these two classes** to represent and perform operations between potentials (we show why later).\n",
        "\n",
        "### Tabular\n",
        "\n",
        "A TabularCPD can be created as follows:\n",
        "```python\n",
        "def __init__(self, variable, variable_card, values, evidence=None, evidence_card=None, state_names={})\n",
        "\"\"\"\n",
        "    Defines the conditional probability distribution table (cpd table)\n",
        "\n",
        "    Parameters\n",
        "    ----------\n",
        "    variable: int, string (any hashable python object)\n",
        "        The variable whose CPD is defined.\n",
        "\n",
        "    variable_card: integer\n",
        "        cardinality of variable\n",
        "\n",
        "    values: 2d array, 2d list or 2d tuple\n",
        "        values of the cpd table\n",
        "\n",
        "    evidence: array-like\n",
        "        evidences(if any) w.r.t. which cpd is defined\n",
        "\n",
        "    evidence_card: integer, array-like\n",
        "        cardinality of evidences (if any)\n",
        "\n",
        "    Examples\n",
        "    --------\n",
        "    For a distribution of P(grade|diff, intel)\n",
        "\n",
        "    +-------+--------------------+------------------+\n",
        "    |diff   |      easy          |    hard          |\n",
        "    +-------+-----+------+-------+------+----+------+\n",
        "    |intel  |dumb |  avg | smart | dumb |avg |smart |\n",
        "    +-------+-----+------+-------+------+----+------+\n",
        "    |gradeA |0.1  |  0.1 |  0.1  | 0.1  |0.1 | 0.1  |\n",
        "    +-------+-----+------+-------+------+----+------+\n",
        "    |gradeB |0.1  |  0.1 |  0.1  | 0.1  |0.1 | 0.1  |\n",
        "    +-------+-----+------+-------+------+----+------+\n",
        "    |gradeC |0.8  |  0.8 |  0.8  | 0.8  |0.8 | 0.8  |\n",
        "    +-------+-----+------+-------+------+----+------+\n",
        "\n",
        "    values should be\n",
        "    [[0.1,0.1,0.1,0.1,0.1,0.1],\n",
        "    [0.1,0.1,0.1,0.1,0.1,0.1],\n",
        "    [0.8,0.8,0.8,0.8,0.8,0.8]]\n",
        "\n",
        "    >>> cpd = TabularCPD('grade',3,[[0.1,0.1,0.1,0.1,0.1,0.1],\n",
        "                                    [0.1,0.1,0.1,0.1,0.1,0.1],\n",
        "                                    [0.8,0.8,0.8,0.8,0.8,0.8]],\n",
        "                                    evidence=['diff', 'intel'], evidence_card=[2,3])\n",
        "\n",
        "```\n",
        "\n",
        "Let's create p(Knife|Butler,Maid) as a TabularCPD:"
      ]
    },
    {
      "cell_type": "code",
      "execution_count": 10,
      "metadata": {
        "id": "juUfY3GL7w8n",
        "scrolled": true
      },
      "outputs": [
        {
          "name": "stdout",
          "output_type": "stream",
          "text": [
            "<TabularCPD representing P(Knife:2 | Butler:2, Maid:2) at 0x7ffa97e5c7c0>\n",
            "+----------+-----------+-----------+-----------+-----------+\n",
            "| Butler   | Butler(0) | Butler(0) | Butler(1) | Butler(1) |\n",
            "+----------+-----------+-----------+-----------+-----------+\n",
            "| Maid     | Maid(0)   | Maid(1)   | Maid(0)   | Maid(1)   |\n",
            "+----------+-----------+-----------+-----------+-----------+\n",
            "| Knife(0) | 0.3       | 0.2       | 0.6       | 0.1       |\n",
            "+----------+-----------+-----------+-----------+-----------+\n",
            "| Knife(1) | 0.7       | 0.8       | 0.4       | 0.9       |\n",
            "+----------+-----------+-----------+-----------+-----------+\n"
          ]
        }
      ],
      "source": [
        "from pgmpy.factors.discrete import TabularCPD\n",
        "\n",
        "cpd = dict()\n",
        "\n",
        "cpd[\"K|B,M\"] = TabularCPD(variable=\"Knife\",\n",
        "                         variable_card=len(domains[\"Knife\"]),\n",
        "                         evidence=[\"Butler\", \"Maid\"],\n",
        "                         evidence_card=[len(domains[\"Butler\"]), len(domains[\"Maid\"])],\n",
        "                         values=[[0.3, 0.2, 0.6, 0.1],\n",
        "                                 [0.7, 0.8, 0.4, 0.9]])\n",
        "\n",
        "print(repr(cpd[\"K|B,M\"]))\n",
        "print(cpd[\"K|B,M\"])"
      ]
    },
    {
      "cell_type": "markdown",
      "metadata": {
        "id": "eFfbrdqL7w8n"
      },
      "source": [
        "Note that apart from separating the variables, we need to specify the values in a different way. TabularCPD contains the same information as our previous definition as a DiscreteFactor, but rearranged in a table of size 2x4. Therefore, it is equal to our previous definition (although not the same object, of course):"
      ]
    },
    {
      "cell_type": "code",
      "execution_count": 11,
      "metadata": {
        "id": "Lb0QR8bH7w8o"
      },
      "outputs": [
        {
          "name": "stdout",
          "output_type": "stream",
          "text": [
            "cpd[\"K|B,M\"] equal to p[\"K|B,M\"]: False\n",
            "cpd[\"K|B,M\"] is p[\"K|B,M\"]: False\n"
          ]
        }
      ],
      "source": [
        "print('cpd[\"K|B,M\"] equal to p[\"K|B,M\"]:', cpd[\"K|B,M\"] == p[\"K|B,M\"])\n",
        "print('cpd[\"K|B,M\"] is p[\"K|B,M\"]:', cpd[\"K|B,M\"] is p[\"K|B,M\"])"
      ]
    },
    {
      "cell_type": "markdown",
      "metadata": {
        "id": "iq5juqmh7w8o"
      },
      "source": [
        "We can get a DiscreteFactor from a TabularCPD with the method ```to_factor```. However, it won't keep the state names:"
      ]
    },
    {
      "cell_type": "code",
      "execution_count": 12,
      "metadata": {
        "id": "sJW6icZ_7w8o"
      },
      "outputs": [
        {
          "name": "stdout",
          "output_type": "stream",
          "text": [
            "+----------+-----------+---------+--------------------------+\n",
            "| Knife    | Butler    | Maid    |   phi(Knife,Butler,Maid) |\n",
            "+==========+===========+=========+==========================+\n",
            "| Knife(0) | Butler(0) | Maid(0) |                   0.3000 |\n",
            "+----------+-----------+---------+--------------------------+\n",
            "| Knife(0) | Butler(0) | Maid(1) |                   0.2000 |\n",
            "+----------+-----------+---------+--------------------------+\n",
            "| Knife(0) | Butler(1) | Maid(0) |                   0.6000 |\n",
            "+----------+-----------+---------+--------------------------+\n",
            "| Knife(0) | Butler(1) | Maid(1) |                   0.1000 |\n",
            "+----------+-----------+---------+--------------------------+\n",
            "| Knife(1) | Butler(0) | Maid(0) |                   0.7000 |\n",
            "+----------+-----------+---------+--------------------------+\n",
            "| Knife(1) | Butler(0) | Maid(1) |                   0.8000 |\n",
            "+----------+-----------+---------+--------------------------+\n",
            "| Knife(1) | Butler(1) | Maid(0) |                   0.4000 |\n",
            "+----------+-----------+---------+--------------------------+\n",
            "| Knife(1) | Butler(1) | Maid(1) |                   0.9000 |\n",
            "+----------+-----------+---------+--------------------------+\n"
          ]
        }
      ],
      "source": [
        "print(cpd[\"K|B,M\"].to_factor())"
      ]
    },
    {
      "cell_type": "markdown",
      "metadata": {
        "id": "DOK_XHGY7w8o"
      },
      "source": [
        "### What is the problem of TabularCPD?\n",
        "As far as we know, TabularCPD inherits from DiscreteFactor and represents a conditional probability distribution. So why don't we use it from the begining? What is wrong with it? Let's try to perform operations with it. What happens when we compute p(Knife,Maid|Butler) = p(Knife|Butler,Maid)p(Maid)?"
      ]
    },
    {
      "cell_type": "code",
      "execution_count": 13,
      "metadata": {
        "id": "CBDQFTDM7w8p"
      },
      "outputs": [
        {
          "name": "stdout",
          "output_type": "stream",
          "text": [
            "<TabularCPD representing P(Knife:2 | Butler:2, Maid:2) at 0x7ffa97cd5c00>\n",
            "+-----------------+-----+----------------------+\n",
            "| Butler          | ... | Butler(not_murderer) |\n",
            "+-----------------+-----+----------------------+\n",
            "| Maid            | ... | Maid(not_murderer)   |\n",
            "+-----------------+-----+----------------------+\n",
            "| Knife(used)     | ... | 0.08000000000000002  |\n",
            "+-----------------+-----+----------------------+\n",
            "| Knife(not_used) | ... | 0.7200000000000001   |\n",
            "+-----------------+-----+----------------------+\n"
          ]
        }
      ],
      "source": [
        "cpd_KM_B = cpd[\"K|B,M\"]*p[\"M\"]\n",
        "print(repr(cpd_KM_B))\n",
        "print(cpd_KM_B)"
      ]
    },
    {
      "cell_type": "markdown",
      "metadata": {
        "id": "p3zubGtC7w8r"
      },
      "source": [
        "This seems wrong. It shows it as P(Knife|Butler,Maid) instead of P(Knife,Maid|Butler). This is because, in pgmpy, performing an operation in a TabularCPD returns another TabularCPD. A TabularCPD is not general enough to represent this, since it only allows one variable in the left-hand side. The values of the table, however, are ok, but the interpretation (the class) is not. This is why we will **always use factors** to perform operations."
      ]
    },
    {
      "cell_type": "code",
      "execution_count": 14,
      "metadata": {
        "id": "_Be6F5X57w8r"
      },
      "outputs": [
        {
          "name": "stdout",
          "output_type": "stream",
          "text": [
            "P(Knife,Maid|Butler):\n",
            "+-----------------+----------------------+--------------------+--------------------------+\n",
            "| Knife           | Butler               | Maid               |   phi(Knife,Butler,Maid) |\n",
            "+=================+======================+====================+==========================+\n",
            "| Knife(used)     | Butler(murderer)     | Maid(murderer)     |                   0.0600 |\n",
            "+-----------------+----------------------+--------------------+--------------------------+\n",
            "| Knife(used)     | Butler(murderer)     | Maid(not_murderer) |                   0.1600 |\n",
            "+-----------------+----------------------+--------------------+--------------------------+\n",
            "| Knife(used)     | Butler(not_murderer) | Maid(murderer)     |                   0.1200 |\n",
            "+-----------------+----------------------+--------------------+--------------------------+\n",
            "| Knife(used)     | Butler(not_murderer) | Maid(not_murderer) |                   0.0800 |\n",
            "+-----------------+----------------------+--------------------+--------------------------+\n",
            "| Knife(not_used) | Butler(murderer)     | Maid(murderer)     |                   0.1400 |\n",
            "+-----------------+----------------------+--------------------+--------------------------+\n",
            "| Knife(not_used) | Butler(murderer)     | Maid(not_murderer) |                   0.6400 |\n",
            "+-----------------+----------------------+--------------------+--------------------------+\n",
            "| Knife(not_used) | Butler(not_murderer) | Maid(murderer)     |                   0.0800 |\n",
            "+-----------------+----------------------+--------------------+--------------------------+\n",
            "| Knife(not_used) | Butler(not_murderer) | Maid(not_murderer) |                   0.7200 |\n",
            "+-----------------+----------------------+--------------------+--------------------------+\n"
          ]
        }
      ],
      "source": [
        "p_KM_B = cpd_KM_B.to_factor()\n",
        "print(\"P(Knife,Maid|Butler):\")\n",
        "print(p_KM_B) # the values of the probability table are ok, their interpretation (the class) was not"
      ]
    },
    {
      "cell_type": "markdown",
      "metadata": {
        "id": "RyXPBcsI7w8r"
      },
      "source": [
        "This is even worse if we get a joint probability distribution:"
      ]
    },
    {
      "cell_type": "code",
      "execution_count": 15,
      "metadata": {
        "id": "uuYIz6za7w8r"
      },
      "outputs": [
        {
          "name": "stdout",
          "output_type": "stream",
          "text": [
            "<TabularCPD representing P(Knife:2 | Butler:2, Maid:2) at 0x7ffa97cd5bd0>\n",
            "+-----------------+-----+----------------------+\n",
            "| Butler          | ... | Butler(not_murderer) |\n",
            "+-----------------+-----+----------------------+\n",
            "| Maid            | ... | Maid(not_murderer)   |\n",
            "+-----------------+-----+----------------------+\n",
            "| Knife(used)     | ... | 0.03200000000000001  |\n",
            "+-----------------+-----+----------------------+\n",
            "| Knife(not_used) | ... | 0.28800000000000003  |\n",
            "+-----------------+-----+----------------------+\n"
          ]
        }
      ],
      "source": [
        "joint_from_cpd = cpd[\"K|B,M\"] * p[\"B\"] * p[\"M\"]\n",
        "print(repr(joint_from_cpd))\n",
        "print(joint_from_cpd)"
      ]
    },
    {
      "cell_type": "markdown",
      "metadata": {
        "id": "UtHuYkny7w8s"
      },
      "source": [
        "This is completely wrong: there should be no conditioning at all, but pgmpy does not know that, it just performs the operations and returns them in a TabularCPD object. Again, the values are ok, we can check it is a distribution since they sum to 1. Also, checking with ```is_valid_cpd``` tells us that this is not a well-defined CPD, as expected."
      ]
    },
    {
      "cell_type": "code",
      "execution_count": 16,
      "metadata": {
        "id": "tz-2KNlb7w8s"
      },
      "outputs": [
        {
          "name": "stdout",
          "output_type": "stream",
          "text": [
            "Valid CPD: False\n",
            "Sum of values: 1.0\n"
          ]
        }
      ],
      "source": [
        "print(\"Valid CPD:\", joint_from_cpd.is_valid_cpd())\n",
        "print(\"Sum of values:\", np.sum(joint_from_cpd.values))"
      ]
    },
    {
      "cell_type": "markdown",
      "metadata": {
        "id": "O4iASTXV7w8s"
      },
      "source": [
        "Why do we need TabularCPD at all, then? Well, when defining a Bayesian Network, we will need to specify the probability tables as a list of TabularCPD instances. We recommend that you **work using DiscreteFactors and translate them to TabularCPDs when you need them to specify the graphical model**.\n",
        "\n",
        "Here we provide a function that given a factor and a variable, it returns the corresponding TabularCPD."
      ]
    },
    {
      "cell_type": "code",
      "execution_count": 17,
      "metadata": {
        "id": "8TJfoYsn7w8s"
      },
      "outputs": [],
      "source": [
        "def to_cpd(phi, x):\n",
        "    \"\"\"\n",
        "    Returns a TabularCPD object from a DiscreteFactor. For a given factor phi(x_0, ..., x_n)\n",
        "    and a variable x_i, it interprets the factor as a CPD P(x_i|Y), where Y is the set of all\n",
        "    variables in phi except x_i. I.e. P(x_i|x_0, ..., x_{i-1}, x_{i+1}, ..., x_n).\n",
        "    It also checks that the factor is a valid conditional probability distribution.\n",
        "    \"\"\"\n",
        "    assert x in phi.variables\n",
        "    idx = phi.variables.index(x)\n",
        "    card = list(phi.cardinality)\n",
        "    var_card = card[idx]\n",
        "    evidence_card = card[:idx] + card[idx+1:]\n",
        "    values = np.moveaxis(phi.values, idx, 0) # move variable x to dimension 0\n",
        "    return TabularCPD(variable=x,\n",
        "                      variable_card=var_card,\n",
        "                      evidence=phi.variables[:idx] + phi.variables[idx+1:],\n",
        "                      evidence_card=evidence_card,\n",
        "                      values=values.reshape(var_card, int(np.prod(evidence_card))), # int cast since np.prod([])=1.0\n",
        "                      state_names=phi.state_names)"
      ]
    },
    {
      "cell_type": "code",
      "execution_count": 18,
      "metadata": {
        "id": "Qjbl8RmY7w8t"
      },
      "outputs": [
        {
          "name": "stdout",
          "output_type": "stream",
          "text": [
            "+-----------------+-----+----------------------+\n",
            "| Butler          | ... | Butler(not_murderer) |\n",
            "+-----------------+-----+----------------------+\n",
            "| Maid            | ... | Maid(not_murderer)   |\n",
            "+-----------------+-----+----------------------+\n",
            "| Knife(used)     | ... | 0.1                  |\n",
            "+-----------------+-----+----------------------+\n",
            "| Knife(not_used) | ... | 0.9                  |\n",
            "+-----------------+-----+----------------------+\n"
          ]
        }
      ],
      "source": [
        "cpd[\"K|B,M\"] = to_cpd(p[\"K|B,M\"], \"Knife\")\n",
        "print(cpd[\"K|B,M\"])"
      ]
    },
    {
      "cell_type": "markdown",
      "metadata": {
        "id": "rZYppCZ47w8t"
      },
      "source": [
        "Try it with the tables p(Knife), p(Butler|Knife), p(Maid|Knife) and p(Maid|Knife,Butler) that you have computed before.\n",
        "\n",
        "Note that we cannot try it with p(Butler,Maid|Knife), for instance, because TabularCPD cannot express such CPD."
      ]
    },
    {
      "cell_type": "code",
      "execution_count": null,
      "metadata": {
        "id": "vac6XDyi7w8t"
      },
      "outputs": [],
      "source": []
    },
    {
      "cell_type": "markdown",
      "metadata": {
        "id": "m5MrPQ-27w8t"
      },
      "source": [
        "### JointProbabilityDistribution\n",
        "We also have another class for Joint Probability Distributions (JPD). This class also inherits from DiscreteFactor and offers some functionality specific to JPDs. Similar to TabularCPDs, when performing operations on a JointProbabilityDistribution instance, we will get another instance of the same class. Again, the values of the probability table will be right, but they should not be interpreted as a JPD. We also provide a function to go from DiscreteFactor to JointProbabilityDistribution."
      ]
    },
    {
      "cell_type": "code",
      "execution_count": 19,
      "metadata": {
        "id": "4J1WlPzR7w8t"
      },
      "outputs": [],
      "source": [
        "from pgmpy.factors.discrete import JointProbabilityDistribution\n",
        "\n",
        "def to_jdp(p):\n",
        "    return JointProbabilityDistribution(variables=p.variables,\n",
        "                                        cardinality=p.cardinality,\n",
        "                                        values=p.values)"
      ]
    },
    {
      "cell_type": "code",
      "execution_count": 20,
      "metadata": {
        "id": "8O5UPb7c7w8u"
      },
      "outputs": [
        {
          "name": "stdout",
          "output_type": "stream",
          "text": [
            "<Joint Distribution representing P(Knife:2, Butler:2, Maid:2) at 0x7ffa97cd67a0>\n",
            "+----------+-----------+---------+------------------------+\n",
            "| Knife    | Butler    | Maid    |   P(Knife,Butler,Maid) |\n",
            "+==========+===========+=========+========================+\n",
            "| Knife(0) | Butler(0) | Maid(0) |                 0.0360 |\n",
            "+----------+-----------+---------+------------------------+\n",
            "| Knife(0) | Butler(0) | Maid(1) |                 0.0960 |\n",
            "+----------+-----------+---------+------------------------+\n",
            "| Knife(0) | Butler(1) | Maid(0) |                 0.0480 |\n",
            "+----------+-----------+---------+------------------------+\n",
            "| Knife(0) | Butler(1) | Maid(1) |                 0.0320 |\n",
            "+----------+-----------+---------+------------------------+\n",
            "| Knife(1) | Butler(0) | Maid(0) |                 0.0840 |\n",
            "+----------+-----------+---------+------------------------+\n",
            "| Knife(1) | Butler(0) | Maid(1) |                 0.3840 |\n",
            "+----------+-----------+---------+------------------------+\n",
            "| Knife(1) | Butler(1) | Maid(0) |                 0.0320 |\n",
            "+----------+-----------+---------+------------------------+\n",
            "| Knife(1) | Butler(1) | Maid(1) |                 0.2880 |\n",
            "+----------+-----------+---------+------------------------+\n"
          ]
        }
      ],
      "source": [
        "jdp_KBM = to_jdp(p[\"K,B,M\"]) # if this does not work it is most probably because you forgot an \"inplace=False\" somewhere\n",
        "print(repr(jdp_KBM))\n",
        "print(jdp_KBM) # note the P() instead of phi() in the representation"
      ]
    },
    {
      "cell_type": "markdown",
      "metadata": {
        "id": "ry4074fB7w8u"
      },
      "source": [
        "## Bayesian Networks\n",
        "\n",
        "From the documentation:\n",
        "```python\n",
        "class BayesianModel(DAG):\n",
        "    \"\"\"\n",
        "    Base class for bayesian model.\n",
        "\n",
        "    A models stores nodes and edges with conditional probability\n",
        "    distribution (cpd) and other attributes.\n",
        "\n",
        "    models hold directed edges.  Self loops are not allowed neither\n",
        "    multiple (parallel) edges.\n",
        "\n",
        "    Nodes can be any hashable python object.\n",
        "\n",
        "    Edges are represented as links between nodes.\n",
        "\n",
        "    Parameters\n",
        "    ----------\n",
        "    data : input graph\n",
        "        Data to initialize graph.  If data=None (default) an empty\n",
        "        graph is created.  The data can be an edge list, or any\n",
        "        NetworkX graph object.\n",
        "```\n",
        "\n",
        "### Creating a Bayesian Network\n",
        "\n",
        "Let's create our model, add the CPDs and check it:"
      ]
    },
    {
      "cell_type": "code",
      "execution_count": 21,
      "metadata": {
        "id": "vW6_xuUk7w8u"
      },
      "outputs": [
        {
          "name": "stderr",
          "output_type": "stream",
          "text": [
            "/home/codespace/.python/current/lib/python3.10/site-packages/tqdm/auto.py:21: TqdmWarning: IProgress not found. Please update jupyter and ipywidgets. See https://ipywidgets.readthedocs.io/en/stable/user_install.html\n",
            "  from .autonotebook import tqdm as notebook_tqdm\n"
          ]
        },
        {
          "name": "stdout",
          "output_type": "stream",
          "text": [
            "Model OK: True\n"
          ]
        }
      ],
      "source": [
        "from pgmpy.models import BayesianNetwork\n",
        "\n",
        "model = BayesianNetwork([(\"Butler\", \"Knife\"), (\"Maid\", \"Knife\")])\n",
        "cpd_B = to_cpd(p[\"B\"], \"Butler\")\n",
        "cpd_M = to_cpd(p[\"M\"], \"Maid\")\n",
        "cpd_K_BM = to_cpd(p[\"K|B,M\"], \"Knife\")\n",
        "model.add_cpds(cpd_M, cpd_B, cpd_K_BM) # the order is not important\n",
        "print(\"Model OK:\", model.check_model())"
      ]
    },
    {
      "cell_type": "markdown",
      "metadata": {
        "id": "rpyYKa3f7w8u"
      },
      "source": [
        "We can get the list of CPDs with ```model.get_cpds()```:"
      ]
    },
    {
      "cell_type": "code",
      "execution_count": 22,
      "metadata": {
        "id": "s1U7Omfj7w8v"
      },
      "outputs": [
        {
          "name": "stdout",
          "output_type": "stream",
          "text": [
            "CPDs list:\n",
            "[<TabularCPD representing P(Maid:2) at 0x7ff9b9dd2cb0>, <TabularCPD representing P(Butler:2) at 0x7ffa97cd66e0>, <TabularCPD representing P(Knife:2 | Butler:2, Maid:2) at 0x7ffa97cd5ea0>]\n",
            "\n",
            "CPD for Butler:\n",
            "+----------------------+-----+\n",
            "| Butler(murderer)     | 0.6 |\n",
            "+----------------------+-----+\n",
            "| Butler(not_murderer) | 0.4 |\n",
            "+----------------------+-----+\n",
            "\n",
            "CPD for Knife:\n",
            "+-----------------+-----+----------------------+\n",
            "| Butler          | ... | Butler(not_murderer) |\n",
            "+-----------------+-----+----------------------+\n",
            "| Maid            | ... | Maid(not_murderer)   |\n",
            "+-----------------+-----+----------------------+\n",
            "| Knife(used)     | ... | 0.1                  |\n",
            "+-----------------+-----+----------------------+\n",
            "| Knife(not_used) | ... | 0.9                  |\n",
            "+-----------------+-----+----------------------+\n"
          ]
        }
      ],
      "source": [
        "print(\"CPDs list:\")\n",
        "print(model.get_cpds())\n",
        "\n",
        "print(\"\")\n",
        "print(\"CPD for Butler:\")\n",
        "print(model.get_cpds(\"Butler\"))\n",
        "\n",
        "print(\"\")\n",
        "print(\"CPD for Knife:\")\n",
        "print(model.get_cpds(\"Knife\"))"
      ]
    },
    {
      "cell_type": "markdown",
      "metadata": {
        "id": "oBO7CGqn7w8v"
      },
      "source": [
        "We can also check the independencies with ```model.local_independencies(vars)```. Try it out:"
      ]
    },
    {
      "cell_type": "code",
      "execution_count": null,
      "metadata": {
        "id": "bnrGOmoU7w8v"
      },
      "outputs": [],
      "source": []
    },
    {
      "cell_type": "markdown",
      "metadata": {
        "id": "-MbuZhmD7w8v"
      },
      "source": [
        "### Displaying the network\n",
        "pgmpy uses networkx for graph structure. We can plot the network using networkx.draw"
      ]
    },
    {
      "cell_type": "code",
      "execution_count": 23,
      "metadata": {
        "colab": {
          "base_uri": "https://localhost:8080/",
          "height": 319
        },
        "id": "TUeNAqCn7w8v",
        "outputId": "4f1099c2-14df-4239-cf67-13ef52fe3928"
      },
      "outputs": [
        {
          "name": "stderr",
          "output_type": "stream",
          "text": [
            "INFO:matplotlib.font_manager:generated new fontManager\n"
          ]
        },
        {
          "ename": "StopIteration",
          "evalue": "",
          "output_type": "error",
          "traceback": [
            "\u001b[0;31m---------------------------------------------------------------------------\u001b[0m",
            "\u001b[0;31mStopIteration\u001b[0m                             Traceback (most recent call last)",
            "Cell \u001b[0;32mIn[23], line 3\u001b[0m\n\u001b[1;32m      1\u001b[0m \u001b[38;5;28;01mimport\u001b[39;00m \u001b[38;5;21;01mnetworkx\u001b[39;00m \u001b[38;5;28;01mas\u001b[39;00m \u001b[38;5;21;01mnx\u001b[39;00m\n\u001b[0;32m----> 3\u001b[0m \u001b[43mnx\u001b[49m\u001b[38;5;241;43m.\u001b[39;49m\u001b[43mdraw\u001b[49m\u001b[43m(\u001b[49m\u001b[43mmodel\u001b[49m\u001b[43m,\u001b[49m\u001b[43m \u001b[49m\u001b[43mwith_labels\u001b[49m\u001b[38;5;241;43m=\u001b[39;49m\u001b[38;5;28;43;01mTrue\u001b[39;49;00m\u001b[43m)\u001b[49m\n",
            "File \u001b[0;32m~/.local/lib/python3.10/site-packages/networkx/drawing/nx_pylab.py:121\u001b[0m, in \u001b[0;36mdraw\u001b[0;34m(G, pos, ax, **kwds)\u001b[0m\n\u001b[1;32m    118\u001b[0m \u001b[38;5;28;01mif\u001b[39;00m \u001b[38;5;124m\"\u001b[39m\u001b[38;5;124mwith_labels\u001b[39m\u001b[38;5;124m\"\u001b[39m \u001b[38;5;129;01mnot\u001b[39;00m \u001b[38;5;129;01min\u001b[39;00m kwds:\n\u001b[1;32m    119\u001b[0m     kwds[\u001b[38;5;124m\"\u001b[39m\u001b[38;5;124mwith_labels\u001b[39m\u001b[38;5;124m\"\u001b[39m] \u001b[38;5;241m=\u001b[39m \u001b[38;5;124m\"\u001b[39m\u001b[38;5;124mlabels\u001b[39m\u001b[38;5;124m\"\u001b[39m \u001b[38;5;129;01min\u001b[39;00m kwds\n\u001b[0;32m--> 121\u001b[0m \u001b[43mdraw_networkx\u001b[49m\u001b[43m(\u001b[49m\u001b[43mG\u001b[49m\u001b[43m,\u001b[49m\u001b[43m \u001b[49m\u001b[43mpos\u001b[49m\u001b[38;5;241;43m=\u001b[39;49m\u001b[43mpos\u001b[49m\u001b[43m,\u001b[49m\u001b[43m \u001b[49m\u001b[43max\u001b[49m\u001b[38;5;241;43m=\u001b[39;49m\u001b[43max\u001b[49m\u001b[43m,\u001b[49m\u001b[43m \u001b[49m\u001b[38;5;241;43m*\u001b[39;49m\u001b[38;5;241;43m*\u001b[39;49m\u001b[43mkwds\u001b[49m\u001b[43m)\u001b[49m\n\u001b[1;32m    122\u001b[0m ax\u001b[38;5;241m.\u001b[39mset_axis_off()\n\u001b[1;32m    123\u001b[0m plt\u001b[38;5;241m.\u001b[39mdraw_if_interactive()\n",
            "File \u001b[0;32m~/.local/lib/python3.10/site-packages/networkx/drawing/nx_pylab.py:305\u001b[0m, in \u001b[0;36mdraw_networkx\u001b[0;34m(G, pos, arrows, with_labels, **kwds)\u001b[0m\n\u001b[1;32m    302\u001b[0m     pos \u001b[38;5;241m=\u001b[39m nx\u001b[38;5;241m.\u001b[39mdrawing\u001b[38;5;241m.\u001b[39mspring_layout(G)  \u001b[38;5;66;03m# default to spring layout\u001b[39;00m\n\u001b[1;32m    304\u001b[0m draw_networkx_nodes(G, pos, \u001b[38;5;241m*\u001b[39m\u001b[38;5;241m*\u001b[39mnode_kwds)\n\u001b[0;32m--> 305\u001b[0m \u001b[43mdraw_networkx_edges\u001b[49m\u001b[43m(\u001b[49m\u001b[43mG\u001b[49m\u001b[43m,\u001b[49m\u001b[43m \u001b[49m\u001b[43mpos\u001b[49m\u001b[43m,\u001b[49m\u001b[43m \u001b[49m\u001b[43marrows\u001b[49m\u001b[38;5;241;43m=\u001b[39;49m\u001b[43marrows\u001b[49m\u001b[43m,\u001b[49m\u001b[43m \u001b[49m\u001b[38;5;241;43m*\u001b[39;49m\u001b[38;5;241;43m*\u001b[39;49m\u001b[43medge_kwds\u001b[49m\u001b[43m)\u001b[49m\n\u001b[1;32m    306\u001b[0m \u001b[38;5;28;01mif\u001b[39;00m with_labels:\n\u001b[1;32m    307\u001b[0m     draw_networkx_labels(G, pos, \u001b[38;5;241m*\u001b[39m\u001b[38;5;241m*\u001b[39mlabel_kwds)\n",
            "File \u001b[0;32m~/.local/lib/python3.10/site-packages/networkx/drawing/nx_pylab.py:912\u001b[0m, in \u001b[0;36mdraw_networkx_edges\u001b[0;34m(G, pos, edgelist, width, edge_color, style, alpha, arrowstyle, arrowsize, edge_cmap, edge_vmin, edge_vmax, ax, arrows, label, node_size, nodelist, node_shape, connectionstyle, min_source_margin, min_target_margin)\u001b[0m\n\u001b[1;32m    910\u001b[0m \u001b[38;5;28;01melse\u001b[39;00m:\n\u001b[1;32m    911\u001b[0m     fancy_edges_indices \u001b[38;5;241m=\u001b[39m \u001b[38;5;28mrange\u001b[39m(\u001b[38;5;28mlen\u001b[39m(edgelist))\n\u001b[0;32m--> 912\u001b[0m     edge_viz_obj \u001b[38;5;241m=\u001b[39m \u001b[43m_draw_networkx_edges_fancy_arrow_patch\u001b[49m\u001b[43m(\u001b[49m\u001b[43m)\u001b[49m\n\u001b[1;32m    914\u001b[0m \u001b[38;5;66;03m# update view after drawing\u001b[39;00m\n\u001b[1;32m    915\u001b[0m padx, pady \u001b[38;5;241m=\u001b[39m \u001b[38;5;241m0.05\u001b[39m \u001b[38;5;241m*\u001b[39m w, \u001b[38;5;241m0.05\u001b[39m \u001b[38;5;241m*\u001b[39m h\n",
            "File \u001b[0;32m~/.local/lib/python3.10/site-packages/networkx/drawing/nx_pylab.py:886\u001b[0m, in \u001b[0;36mdraw_networkx_edges.<locals>._draw_networkx_edges_fancy_arrow_patch\u001b[0;34m()\u001b[0m\n\u001b[1;32m    871\u001b[0m     arrow \u001b[38;5;241m=\u001b[39m mpl\u001b[38;5;241m.\u001b[39mpatches\u001b[38;5;241m.\u001b[39mFancyArrowPatch(\n\u001b[1;32m    872\u001b[0m         (x1, y1),\n\u001b[1;32m    873\u001b[0m         (x2, y2),\n\u001b[0;32m   (...)\u001b[0m\n\u001b[1;32m    882\u001b[0m         zorder\u001b[38;5;241m=\u001b[39m\u001b[38;5;241m1\u001b[39m,\n\u001b[1;32m    883\u001b[0m     )  \u001b[38;5;66;03m# arrows go behind nodes\u001b[39;00m\n\u001b[1;32m    885\u001b[0m     arrow_collection\u001b[38;5;241m.\u001b[39mappend(arrow)\n\u001b[0;32m--> 886\u001b[0m     \u001b[43max\u001b[49m\u001b[38;5;241;43m.\u001b[39;49m\u001b[43madd_patch\u001b[49m\u001b[43m(\u001b[49m\u001b[43marrow\u001b[49m\u001b[43m)\u001b[49m\n\u001b[1;32m    888\u001b[0m \u001b[38;5;28;01mreturn\u001b[39;00m arrow_collection\n",
            "File \u001b[0;32m~/.local/lib/python3.10/site-packages/matplotlib/axes/_base.py:2384\u001b[0m, in \u001b[0;36m_AxesBase.add_patch\u001b[0;34m(self, p)\u001b[0m\n\u001b[1;32m   2382\u001b[0m \u001b[38;5;28;01mif\u001b[39;00m p\u001b[38;5;241m.\u001b[39mget_clip_path() \u001b[38;5;129;01mis\u001b[39;00m \u001b[38;5;28;01mNone\u001b[39;00m:\n\u001b[1;32m   2383\u001b[0m     p\u001b[38;5;241m.\u001b[39mset_clip_path(\u001b[38;5;28mself\u001b[39m\u001b[38;5;241m.\u001b[39mpatch)\n\u001b[0;32m-> 2384\u001b[0m \u001b[38;5;28;43mself\u001b[39;49m\u001b[38;5;241;43m.\u001b[39;49m\u001b[43m_update_patch_limits\u001b[49m\u001b[43m(\u001b[49m\u001b[43mp\u001b[49m\u001b[43m)\u001b[49m\n\u001b[1;32m   2385\u001b[0m \u001b[38;5;28mself\u001b[39m\u001b[38;5;241m.\u001b[39m_children\u001b[38;5;241m.\u001b[39mappend(p)\n\u001b[1;32m   2386\u001b[0m p\u001b[38;5;241m.\u001b[39m_remove_method \u001b[38;5;241m=\u001b[39m \u001b[38;5;28mself\u001b[39m\u001b[38;5;241m.\u001b[39m_children\u001b[38;5;241m.\u001b[39mremove\n",
            "File \u001b[0;32m~/.local/lib/python3.10/site-packages/matplotlib/axes/_base.py:2402\u001b[0m, in \u001b[0;36m_AxesBase._update_patch_limits\u001b[0;34m(self, patch)\u001b[0m\n\u001b[1;32m   2399\u001b[0m \u001b[38;5;28;01mif\u001b[39;00m (\u001b[38;5;28misinstance\u001b[39m(patch, mpatches\u001b[38;5;241m.\u001b[39mRectangle) \u001b[38;5;129;01mand\u001b[39;00m\n\u001b[1;32m   2400\u001b[0m         ((\u001b[38;5;129;01mnot\u001b[39;00m patch\u001b[38;5;241m.\u001b[39mget_width()) \u001b[38;5;129;01mand\u001b[39;00m (\u001b[38;5;129;01mnot\u001b[39;00m patch\u001b[38;5;241m.\u001b[39mget_height()))):\n\u001b[1;32m   2401\u001b[0m     \u001b[38;5;28;01mreturn\u001b[39;00m\n\u001b[0;32m-> 2402\u001b[0m p \u001b[38;5;241m=\u001b[39m \u001b[43mpatch\u001b[49m\u001b[38;5;241;43m.\u001b[39;49m\u001b[43mget_path\u001b[49m\u001b[43m(\u001b[49m\u001b[43m)\u001b[49m\n\u001b[1;32m   2403\u001b[0m \u001b[38;5;66;03m# Get all vertices on the path\u001b[39;00m\n\u001b[1;32m   2404\u001b[0m \u001b[38;5;66;03m# Loop through each segment to get extrema for Bezier curve sections\u001b[39;00m\n\u001b[1;32m   2405\u001b[0m vertices \u001b[38;5;241m=\u001b[39m []\n",
            "File \u001b[0;32m~/.local/lib/python3.10/site-packages/matplotlib/patches.py:4342\u001b[0m, in \u001b[0;36mFancyArrowPatch.get_path\u001b[0;34m(self)\u001b[0m\n\u001b[1;32m   4339\u001b[0m \u001b[38;5;250m\u001b[39m\u001b[38;5;124;03m\"\"\"Return the path of the arrow in the data coordinates.\"\"\"\u001b[39;00m\n\u001b[1;32m   4340\u001b[0m \u001b[38;5;66;03m# The path is generated in display coordinates, then converted back to\u001b[39;00m\n\u001b[1;32m   4341\u001b[0m \u001b[38;5;66;03m# data coordinates.\u001b[39;00m\n\u001b[0;32m-> 4342\u001b[0m _path, fillable \u001b[38;5;241m=\u001b[39m \u001b[38;5;28;43mself\u001b[39;49m\u001b[38;5;241;43m.\u001b[39;49m\u001b[43m_get_path_in_displaycoord\u001b[49m\u001b[43m(\u001b[49m\u001b[43m)\u001b[49m\n\u001b[1;32m   4343\u001b[0m \u001b[38;5;28;01mif\u001b[39;00m np\u001b[38;5;241m.\u001b[39miterable(fillable):\n\u001b[1;32m   4344\u001b[0m     _path \u001b[38;5;241m=\u001b[39m Path\u001b[38;5;241m.\u001b[39mmake_compound_path(\u001b[38;5;241m*\u001b[39m_path)\n",
            "File \u001b[0;32m~/.local/lib/python3.10/site-packages/matplotlib/patches.py:4355\u001b[0m, in \u001b[0;36mFancyArrowPatch._get_path_in_displaycoord\u001b[0;34m(self)\u001b[0m\n\u001b[1;32m   4353\u001b[0m     posB \u001b[38;5;241m=\u001b[39m \u001b[38;5;28mself\u001b[39m\u001b[38;5;241m.\u001b[39m_convert_xy_units(\u001b[38;5;28mself\u001b[39m\u001b[38;5;241m.\u001b[39m_posA_posB[\u001b[38;5;241m1\u001b[39m])\n\u001b[1;32m   4354\u001b[0m     (posA, posB) \u001b[38;5;241m=\u001b[39m \u001b[38;5;28mself\u001b[39m\u001b[38;5;241m.\u001b[39mget_transform()\u001b[38;5;241m.\u001b[39mtransform((posA, posB))\n\u001b[0;32m-> 4355\u001b[0m     _path \u001b[38;5;241m=\u001b[39m \u001b[38;5;28;43mself\u001b[39;49m\u001b[38;5;241;43m.\u001b[39;49m\u001b[43mget_connectionstyle\u001b[49m\u001b[43m(\u001b[49m\u001b[43m)\u001b[49m\u001b[43m(\u001b[49m\u001b[43mposA\u001b[49m\u001b[43m,\u001b[49m\u001b[43m \u001b[49m\u001b[43mposB\u001b[49m\u001b[43m,\u001b[49m\n\u001b[1;32m   4356\u001b[0m \u001b[43m                                       \u001b[49m\u001b[43mpatchA\u001b[49m\u001b[38;5;241;43m=\u001b[39;49m\u001b[38;5;28;43mself\u001b[39;49m\u001b[38;5;241;43m.\u001b[39;49m\u001b[43mpatchA\u001b[49m\u001b[43m,\u001b[49m\n\u001b[1;32m   4357\u001b[0m \u001b[43m                                       \u001b[49m\u001b[43mpatchB\u001b[49m\u001b[38;5;241;43m=\u001b[39;49m\u001b[38;5;28;43mself\u001b[39;49m\u001b[38;5;241;43m.\u001b[39;49m\u001b[43mpatchB\u001b[49m\u001b[43m,\u001b[49m\n\u001b[1;32m   4358\u001b[0m \u001b[43m                                       \u001b[49m\u001b[43mshrinkA\u001b[49m\u001b[38;5;241;43m=\u001b[39;49m\u001b[38;5;28;43mself\u001b[39;49m\u001b[38;5;241;43m.\u001b[39;49m\u001b[43mshrinkA\u001b[49m\u001b[43m \u001b[49m\u001b[38;5;241;43m*\u001b[39;49m\u001b[43m \u001b[49m\u001b[43mdpi_cor\u001b[49m\u001b[43m,\u001b[49m\n\u001b[1;32m   4359\u001b[0m \u001b[43m                                       \u001b[49m\u001b[43mshrinkB\u001b[49m\u001b[38;5;241;43m=\u001b[39;49m\u001b[38;5;28;43mself\u001b[39;49m\u001b[38;5;241;43m.\u001b[39;49m\u001b[43mshrinkB\u001b[49m\u001b[43m \u001b[49m\u001b[38;5;241;43m*\u001b[39;49m\u001b[43m \u001b[49m\u001b[43mdpi_cor\u001b[49m\n\u001b[1;32m   4360\u001b[0m \u001b[43m                                       \u001b[49m\u001b[43m)\u001b[49m\n\u001b[1;32m   4361\u001b[0m \u001b[38;5;28;01melse\u001b[39;00m:\n\u001b[1;32m   4362\u001b[0m     _path \u001b[38;5;241m=\u001b[39m \u001b[38;5;28mself\u001b[39m\u001b[38;5;241m.\u001b[39mget_transform()\u001b[38;5;241m.\u001b[39mtransform_path(\u001b[38;5;28mself\u001b[39m\u001b[38;5;241m.\u001b[39m_path_original)\n",
            "File \u001b[0;32m~/.local/lib/python3.10/site-packages/networkx/drawing/nx_pylab.py:813\u001b[0m, in \u001b[0;36mdraw_networkx_edges.<locals>._draw_networkx_edges_fancy_arrow_patch.<locals>._connectionstyle\u001b[0;34m(posA, posB, *args, **kwargs)\u001b[0m\n\u001b[1;32m    810\u001b[0m     ret \u001b[38;5;241m=\u001b[39m mpl\u001b[38;5;241m.\u001b[39mpath\u001b[38;5;241m.\u001b[39mPath(ax\u001b[38;5;241m.\u001b[39mtransData\u001b[38;5;241m.\u001b[39mtransform(path), [\u001b[38;5;241m1\u001b[39m, \u001b[38;5;241m4\u001b[39m, \u001b[38;5;241m4\u001b[39m, \u001b[38;5;241m4\u001b[39m, \u001b[38;5;241m4\u001b[39m, \u001b[38;5;241m4\u001b[39m, \u001b[38;5;241m4\u001b[39m])\n\u001b[1;32m    811\u001b[0m \u001b[38;5;66;03m# if not, fall back to the user specified behavior\u001b[39;00m\n\u001b[1;32m    812\u001b[0m \u001b[38;5;28;01melse\u001b[39;00m:\n\u001b[0;32m--> 813\u001b[0m     ret \u001b[38;5;241m=\u001b[39m \u001b[43mbase_connection_style\u001b[49m\u001b[43m(\u001b[49m\u001b[43mposA\u001b[49m\u001b[43m,\u001b[49m\u001b[43m \u001b[49m\u001b[43mposB\u001b[49m\u001b[43m,\u001b[49m\u001b[43m \u001b[49m\u001b[38;5;241;43m*\u001b[39;49m\u001b[43margs\u001b[49m\u001b[43m,\u001b[49m\u001b[43m \u001b[49m\u001b[38;5;241;43m*\u001b[39;49m\u001b[38;5;241;43m*\u001b[39;49m\u001b[43mkwargs\u001b[49m\u001b[43m)\u001b[49m\n\u001b[1;32m    815\u001b[0m \u001b[38;5;28;01mreturn\u001b[39;00m ret\n",
            "File \u001b[0;32m~/.local/lib/python3.10/site-packages/matplotlib/patches.py:2756\u001b[0m, in \u001b[0;36mConnectionStyle._Base.__call__\u001b[0;34m(self, posA, posB, shrinkA, shrinkB, patchA, patchB)\u001b[0m\n\u001b[1;32m   2750\u001b[0m path \u001b[38;5;241m=\u001b[39m \u001b[38;5;28mself\u001b[39m\u001b[38;5;241m.\u001b[39mconnect(posA, posB)\n\u001b[1;32m   2751\u001b[0m path \u001b[38;5;241m=\u001b[39m \u001b[38;5;28mself\u001b[39m\u001b[38;5;241m.\u001b[39m_clip(\n\u001b[1;32m   2752\u001b[0m     path,\n\u001b[1;32m   2753\u001b[0m     \u001b[38;5;28mself\u001b[39m\u001b[38;5;241m.\u001b[39m_in_patch(patchA) \u001b[38;5;28;01mif\u001b[39;00m patchA \u001b[38;5;28;01melse\u001b[39;00m \u001b[38;5;28;01mNone\u001b[39;00m,\n\u001b[1;32m   2754\u001b[0m     \u001b[38;5;28mself\u001b[39m\u001b[38;5;241m.\u001b[39m_in_patch(patchB) \u001b[38;5;28;01mif\u001b[39;00m patchB \u001b[38;5;28;01melse\u001b[39;00m \u001b[38;5;28;01mNone\u001b[39;00m,\n\u001b[1;32m   2755\u001b[0m )\n\u001b[0;32m-> 2756\u001b[0m path \u001b[38;5;241m=\u001b[39m \u001b[38;5;28;43mself\u001b[39;49m\u001b[38;5;241;43m.\u001b[39;49m\u001b[43m_clip\u001b[49m\u001b[43m(\u001b[49m\n\u001b[1;32m   2757\u001b[0m \u001b[43m    \u001b[49m\u001b[43mpath\u001b[49m\u001b[43m,\u001b[49m\n\u001b[1;32m   2758\u001b[0m \u001b[43m    \u001b[49m\u001b[43minside_circle\u001b[49m\u001b[43m(\u001b[49m\u001b[38;5;241;43m*\u001b[39;49m\u001b[43mpath\u001b[49m\u001b[38;5;241;43m.\u001b[39;49m\u001b[43mvertices\u001b[49m\u001b[43m[\u001b[49m\u001b[38;5;241;43m0\u001b[39;49m\u001b[43m]\u001b[49m\u001b[43m,\u001b[49m\u001b[43m \u001b[49m\u001b[43mshrinkA\u001b[49m\u001b[43m)\u001b[49m\u001b[43m \u001b[49m\u001b[38;5;28;43;01mif\u001b[39;49;00m\u001b[43m \u001b[49m\u001b[43mshrinkA\u001b[49m\u001b[43m \u001b[49m\u001b[38;5;28;43;01melse\u001b[39;49;00m\u001b[43m \u001b[49m\u001b[38;5;28;43;01mNone\u001b[39;49;00m\u001b[43m,\u001b[49m\n\u001b[1;32m   2759\u001b[0m \u001b[43m    \u001b[49m\u001b[43minside_circle\u001b[49m\u001b[43m(\u001b[49m\u001b[38;5;241;43m*\u001b[39;49m\u001b[43mpath\u001b[49m\u001b[38;5;241;43m.\u001b[39;49m\u001b[43mvertices\u001b[49m\u001b[43m[\u001b[49m\u001b[38;5;241;43m-\u001b[39;49m\u001b[38;5;241;43m1\u001b[39;49m\u001b[43m]\u001b[49m\u001b[43m,\u001b[49m\u001b[43m \u001b[49m\u001b[43mshrinkB\u001b[49m\u001b[43m)\u001b[49m\u001b[43m \u001b[49m\u001b[38;5;28;43;01mif\u001b[39;49;00m\u001b[43m \u001b[49m\u001b[43mshrinkB\u001b[49m\u001b[43m \u001b[49m\u001b[38;5;28;43;01melse\u001b[39;49;00m\u001b[43m \u001b[49m\u001b[38;5;28;43;01mNone\u001b[39;49;00m\n\u001b[1;32m   2760\u001b[0m \u001b[43m\u001b[49m\u001b[43m)\u001b[49m\n\u001b[1;32m   2761\u001b[0m \u001b[38;5;28;01mreturn\u001b[39;00m path\n",
            "File \u001b[0;32m~/.local/lib/python3.10/site-packages/matplotlib/patches.py:2734\u001b[0m, in \u001b[0;36mConnectionStyle._Base._clip\u001b[0;34m(self, path, in_start, in_stop)\u001b[0m\n\u001b[1;32m   2732\u001b[0m \u001b[38;5;28;01mif\u001b[39;00m in_start:\n\u001b[1;32m   2733\u001b[0m     \u001b[38;5;28;01mtry\u001b[39;00m:\n\u001b[0;32m-> 2734\u001b[0m         _, path \u001b[38;5;241m=\u001b[39m \u001b[43msplit_path_inout\u001b[49m\u001b[43m(\u001b[49m\u001b[43mpath\u001b[49m\u001b[43m,\u001b[49m\u001b[43m \u001b[49m\u001b[43min_start\u001b[49m\u001b[43m)\u001b[49m\n\u001b[1;32m   2735\u001b[0m     \u001b[38;5;28;01mexcept\u001b[39;00m \u001b[38;5;167;01mValueError\u001b[39;00m:\n\u001b[1;32m   2736\u001b[0m         \u001b[38;5;28;01mpass\u001b[39;00m\n",
            "File \u001b[0;32m~/.local/lib/python3.10/site-packages/matplotlib/bezier.py:351\u001b[0m, in \u001b[0;36msplit_path_inout\u001b[0;34m(path, inside, tolerance, reorder_inout)\u001b[0m\n\u001b[1;32m    348\u001b[0m \u001b[38;5;28;01mfrom\u001b[39;00m \u001b[38;5;21;01m.\u001b[39;00m\u001b[38;5;21;01mpath\u001b[39;00m \u001b[38;5;28;01mimport\u001b[39;00m Path\n\u001b[1;32m    349\u001b[0m path_iter \u001b[38;5;241m=\u001b[39m path\u001b[38;5;241m.\u001b[39miter_segments()\n\u001b[0;32m--> 351\u001b[0m ctl_points, command \u001b[38;5;241m=\u001b[39m \u001b[38;5;28;43mnext\u001b[39;49m\u001b[43m(\u001b[49m\u001b[43mpath_iter\u001b[49m\u001b[43m)\u001b[49m\n\u001b[1;32m    352\u001b[0m begin_inside \u001b[38;5;241m=\u001b[39m inside(ctl_points[\u001b[38;5;241m-\u001b[39m\u001b[38;5;241m2\u001b[39m:])  \u001b[38;5;66;03m# true if begin point is inside\u001b[39;00m\n\u001b[1;32m    354\u001b[0m ctl_points_old \u001b[38;5;241m=\u001b[39m ctl_points\n",
            "\u001b[0;31mStopIteration\u001b[0m: "
          ]
        },
        {
          "data": {
            "image/png": "[encoded data removed]",
            "text/plain": [
              "<Figure size 640x480 with 1 Axes>"
            ]
          },
          "metadata": {},
          "output_type": "display_data"
        }
      ],
      "source": [
        "import networkx as nx\n",
        "\n",
        "nx.draw(model, with_labels=True)"
      ]
    },
    {
      "cell_type": "markdown",
      "metadata": {
        "id": "6AfSbSu37w8v"
      },
      "source": [
        "### Writing a network to a file\n",
        "\n",
        "There are many file formats for saving our model. We are going to use the BIF format. You can import the ```BIFWriter``` class from ```pgmpy.readwrite```. Write our model to file named \"closeau.bif\" with the function ```BIFWriter.write_bif```.\n",
        "\n",
        "In case you are not familiar with files in Google Colab checkout this <a href='https://neptune.ai/blog/google-colab-dealing-with-files'> link</a>."
      ]
    },
    {
      "cell_type": "code",
      "execution_count": null,
      "metadata": {
        "id": "LhiVZtKF7w8w"
      },
      "outputs": [],
      "source": []
    },
    {
      "cell_type": "markdown",
      "metadata": {
        "id": "QbbWmPFO7w8w"
      },
      "source": [
        "You should now have a file with the following information:\n",
        "\n",
        "```\n",
        "network unknown {\n",
        "}\n",
        "variable Butler {\n",
        "    type discrete [ 2 ] { Butler_0, Butler_1 };\n",
        "}\n",
        "variable Knife {\n",
        "    type discrete [ 2 ] { Knife_0, Knife_1 };\n",
        "}\n",
        "variable Maid {\n",
        "    type discrete [ 2 ] { Maid_0, Maid_1 };\n",
        "}\n",
        "probability ( Butler ) {\n",
        "    table 0.6, 0.4 ;\n",
        "}\n",
        "probability ( Knife | Butler, Maid ) {\n",
        "    table 0.3, 0.2, 0.6, 0.1, 0.7, 0.8, 0.4, 0.9 ;\n",
        "}\n",
        "probability ( Maid ) {\n",
        "    table 0.2, 0.8 ;\n",
        "}\n",
        "```\n",
        "\n",
        "As you can see it is quite straightforward: we define the variables, with their type, cardinality and state names together with the probability tables.\n",
        "\n",
        "For other BIF models, check this website: https://www.bnlearn.com/bnrepository/"
      ]
    },
    {
      "cell_type": "markdown",
      "metadata": {
        "id": "HTWa9kuH7w8w"
      },
      "source": [
        "### Reading a network from a file\n",
        "\n",
        "To import a Bayesian model from a BIF file, we can use the ```BIFReader``` class: ```BIFReader(\"bif_test.bif\").get_model()```.\n",
        "\n",
        "Choose a network from the bnlearn repository and download the BIF file. Have a look at the file, and change some parameters. Load the file with the method shown above. Display it and check the independencies."
      ]
    },
    {
      "cell_type": "code",
      "execution_count": null,
      "metadata": {
        "id": "eyKKS3Ou7w8w"
      },
      "outputs": [],
      "source": []
    }
  ],
  "metadata": {
    "colab": {
      "provenance": []
    },
    "kernelspec": {
      "display_name": "Python 3",
      "language": "python",
      "name": "python3"
    },
    "language_info": {
      "codemirror_mode": {
        "name": "ipython",
        "version": 3
      },
      "file_extension": ".py",
      "mimetype": "text/x-python",
      "name": "python",
      "nbconvert_exporter": "python",
      "pygments_lexer": "ipython3",
      "version": "3.10.13"
    }
  },
  "nbformat": 4,
  "nbformat_minor": 0
}
